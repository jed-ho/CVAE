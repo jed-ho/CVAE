{
 "cells": [
  {
   "cell_type": "markdown",
   "id": "160e0d6c",
   "metadata": {},
   "source": [
    "# Demonstration of anomaly detection with CVAE using DASHlink data\n",
    "\n",
    "**Author: Milad Memarzadeh (milad.memarzadeh@nasa.gov)**\n"
   ]
  },
  {
   "cell_type": "markdown",
   "id": "2d44fdf2",
   "metadata": {},
   "source": [
    "# Demonstration of anomaly detection with CVAE using DASHlink data\n",
    "\n",
    "**Author: Milad Memarzadeh (milad.memarzadeh@nasa.gov)**\n"
   ]
  },
  {
   "cell_type": "markdown",
   "id": "831f2c0d",
   "metadata": {},
   "source": [
    "# Import Libraries"
   ]
  },
  {
   "cell_type": "code",
   "execution_count": 70,
   "id": "d3a6137f",
   "metadata": {},
   "outputs": [
    {
     "name": "stdout",
     "output_type": "stream",
     "text": [
      "Using device: cpu\n"
     ]
    }
   ],
   "source": [
    "import os\n",
    "import io\n",
    "import numpy as np\n",
    "import pandas as pd\n",
    "import matplotlib.pyplot as plt\n",
    "\n",
    "import seaborn as sns\n",
    "import torch\n",
    "from torch.utils.data import Dataset, DataLoader\n",
    "from torch import nn, optim\n",
    "import torch.nn.functional as F\n",
    "\n",
    "from sklearn.preprocessing import MinMaxScaler\n",
    "from sklearn.model_selection import train_test_split, StratifiedKFold\n",
    "from sklearn.metrics import roc_auc_score, classification_report, confusion_matrix, ConfusionMatrixDisplay, precision_recall_fscore_support, roc_curve, precision_recall_curve, average_precision_score\n",
    "from sklearn.utils import shuffle\n",
    "#from source.modelsCondVAE import *\n",
    "from source.utilsCondVAEs5 import *\n",
    "from itertools import combinations\n",
    "device = torch.device(\"cuda\" if torch.cuda.is_available() else \"cpu\")\n",
    "print(\"Using device:\", device)\n"
   ]
  },
  {
   "cell_type": "code",
   "execution_count": 71,
   "id": "758118c6",
   "metadata": {},
   "outputs": [],
   "source": [
    "train_learning_rate = 1e-3 #1e-3\n",
    "train_num_epochs = 100\n",
    "\n",
    "latent_dim = 6\n",
    "batch_size = 64\n",
    "window_size = 10\n"
   ]
  },
  {
   "cell_type": "markdown",
   "id": "8b697530",
   "metadata": {},
   "source": [
    "# Load and preprocess data"
   ]
  },
  {
   "cell_type": "code",
   "execution_count": 72,
   "id": "6cb4fb32",
   "metadata": {},
   "outputs": [
    {
     "name": "stdout",
     "output_type": "stream",
     "text": [
      "Data shape: (168000, 9)\n"
     ]
    }
   ],
   "source": [
    "if os.name == 'nt':\n",
    "    data_dir = 'C:/Users/jed95/Documents/GitHub/anomaly_detection/dataset/yahoo_s5/A4Benchmark/'\n",
    "else:\n",
    "    data_dir = '/home/adlink3/Downloads/yahoo_s5/A4Benchmark/'\n",
    "save_dir=\"./CompressAE/A4/\"+str(latent_dim)+\"/\"\n",
    "if not os.path.exists(save_dir):\n",
    "    os.makedirs(save_dir)\n",
    "file_list = [os.path.join(data_dir, f) for f in os.listdir(data_dir) if f.endswith('.csv')]\n",
    "\n",
    "\n",
    "df_list = []\n",
    "for file in file_list:\n",
    "    df = pd.read_csv(file)\n",
    "    df_list.append(df)\n",
    "\n",
    "data = pd.concat(df_list, ignore_index=True)\n",
    "print(\"Data shape:\", data.shape)\n"
   ]
  },
  {
   "cell_type": "code",
   "execution_count": 73,
   "id": "9599316a",
   "metadata": {},
   "outputs": [
    {
     "name": "stdout",
     "output_type": "stream",
     "text": [
      "Missing values: timestamps      0\n",
      "value           0\n",
      "anomaly         0\n",
      "changepoint     0\n",
      "trend           0\n",
      "noise           0\n",
      "seasonality1    0\n",
      "seasonality2    0\n",
      "seasonality3    0\n",
      "dtype: int64\n"
     ]
    }
   ],
   "source": [
    "print(\"Missing values:\", data.isnull().sum())\n",
    "data.dropna(inplace=True)"
   ]
  },
  {
   "cell_type": "code",
   "execution_count": 74,
   "id": "4345488d",
   "metadata": {},
   "outputs": [],
   "source": [
    "scaler = MinMaxScaler()\n",
    "data['value'] = scaler.fit_transform(data['value'].values.reshape(-1, 1))\n"
   ]
  },
  {
   "cell_type": "markdown",
   "id": "3f665b01",
   "metadata": {},
   "source": [
    "# Create Sequences"
   ]
  },
  {
   "cell_type": "code",
   "execution_count": 75,
   "id": "7b216f9b",
   "metadata": {},
   "outputs": [
    {
     "name": "stdout",
     "output_type": "stream",
     "text": [
      "Sequences shape: (167991, 10)\n",
      "Sequence labels shape: (167991,)\n"
     ]
    }
   ],
   "source": [
    "def create_sequences(values, labels, window_size, step=1):\n",
    "    sequences = []\n",
    "    seq_labels = []\n",
    "    for i in range(0, len(values) - window_size + 1, step):\n",
    "        seq = values[i:i + window_size]\n",
    "        # If any label in the sequence is anomalous (e.g., 1), set the sequence label as anomalous\n",
    "        label = 1 if any(labels[i:i + window_size]) else 0\n",
    "        sequences.append(seq)\n",
    "        seq_labels.append(label)\n",
    "    return np.array(sequences), np.array(seq_labels)\n",
    "\n",
    "\n",
    "sequences, seq_labels = create_sequences(data['value'].values, data['anomaly'].values, window_size=window_size)\n",
    "print(\"Sequences shape:\", sequences.shape)\n",
    "print(\"Sequence labels shape:\", seq_labels.shape)\n",
    "\n"
   ]
  },
  {
   "cell_type": "markdown",
   "id": "7e4a0c45",
   "metadata": {},
   "source": [
    "# Split data into labeled and unlabeled sets"
   ]
  },
  {
   "cell_type": "code",
   "execution_count": 76,
   "id": "3d6284fe",
   "metadata": {},
   "outputs": [
    {
     "name": "stdout",
     "output_type": "stream",
     "text": [
      "(159855, 10)\n",
      "(8136, 10)\n"
     ]
    }
   ],
   "source": [
    "\n",
    "normal_indices = np.where(seq_labels == 0)[0]\n",
    "anomalous_indices = np.where(seq_labels == 1)[0]\n",
    "\n",
    "normal_sequences = sequences[normal_indices]\n",
    "normal_labels = seq_labels[normal_indices]\n",
    "\n",
    "anomalous_sequences = sequences[anomalous_indices]\n",
    "anomalous_labels = seq_labels[anomalous_indices]\n",
    "print(normal_sequences.shape)\n",
    "print(anomalous_sequences.shape)\n"
   ]
  },
  {
   "cell_type": "code",
   "execution_count": 77,
   "id": "5cb09988",
   "metadata": {},
   "outputs": [],
   "source": [
    "X_train_normal, X_test_normal, y_train_normal, y_test_normal = train_test_split(\n",
    "    normal_sequences, normal_labels, test_size=0.6, random_state=42, stratify=normal_labels)\n",
    "X_train_normal, X_val_normal, y_train_normal, y_val_normal = train_test_split(\n",
    "    X_train_normal, y_train_normal, test_size=0.5, random_state=42, stratify=y_train_normal)\n",
    "\n",
    "\n",
    "X_train_anomalous, X_test_anomalous, y_train_anomalous, y_test_anomalous = train_test_split(\n",
    "    anomalous_sequences, anomalous_labels, test_size=0.6, random_state=42, stratify=anomalous_labels)\n",
    "X_train_anomalous, X_val_anomalous, y_train_anomalous, y_val_anomalous = train_test_split(\n",
    "    X_train_anomalous, y_train_anomalous, test_size=0.5, random_state=42, stratify=y_train_anomalous)\n"
   ]
  },
  {
   "cell_type": "code",
   "execution_count": 78,
   "id": "f65f3dda",
   "metadata": {},
   "outputs": [
    {
     "name": "stdout",
     "output_type": "stream",
     "text": [
      "Training data shape: (33598, 10) (33598,)\n",
      "Validation data shape: (33598, 10) (33598,)\n",
      "Test data shape: (100795, 10) (100795,)\n"
     ]
    }
   ],
   "source": [
    "X_train = np.concatenate([X_train_normal, X_train_anomalous], axis=0)\n",
    "y_train = np.concatenate([y_train_normal, y_train_anomalous], axis=0)\n",
    "\n",
    "X_val = np.concatenate([X_val_normal, X_val_anomalous], axis=0)\n",
    "y_val = np.concatenate([y_val_normal, y_val_anomalous], axis=0)\n",
    "\n",
    "X_test = np.concatenate([X_test_normal, X_test_anomalous], axis=0)\n",
    "y_test = np.concatenate([y_test_normal, y_test_anomalous], axis=0)\n",
    "print(\"Training data shape:\", X_train.shape, y_train.shape)\n",
    "print(\"Validation data shape:\", X_val.shape, y_val.shape)\n",
    "print(\"Test data shape:\", X_test.shape, y_test.shape)\n"
   ]
  },
  {
   "cell_type": "code",
   "execution_count": 79,
   "id": "28af8376",
   "metadata": {},
   "outputs": [],
   "source": [
    "X_train, y_train = shuffle(X_train, y_train, random_state=42)\n",
    "X_val, y_val = shuffle(X_val, y_val, random_state=42)\n",
    "X_test, y_test = shuffle(X_test, y_test, random_state=42)\n"
   ]
  },
  {
   "cell_type": "markdown",
   "id": "4db1beef",
   "metadata": {},
   "source": [
    "# Convert Data to Tensors"
   ]
  },
  {
   "cell_type": "code",
   "execution_count": 80,
   "id": "f7cae7d2",
   "metadata": {},
   "outputs": [],
   "source": [
    "np.save(save_dir+'X_train.npy', X_train.astype(np.float32))\n",
    "np.save(save_dir+'y_train.npy', y_train.astype(np.float32))\n",
    "np.save(save_dir+'X_val.npy', X_val.astype(np.float32))\n",
    "np.save(save_dir+'y_val.npy', y_val.astype(np.float32))\n",
    "np.save(save_dir+'X_test.npy', X_test.astype(np.float32))\n",
    "np.save(save_dir+'y_test.npy', y_test.astype(np.float32))\n",
    "\n",
    "X_train_size = os.path.getsize(save_dir+'X_train.npy')\n",
    "X_val_size = os.path.getsize(save_dir+'X_val.npy')\n",
    "X_test_size = os.path.getsize(save_dir+'X_test.npy')"
   ]
  },
  {
   "cell_type": "code",
   "execution_count": 81,
   "id": "9a03c958",
   "metadata": {},
   "outputs": [
    {
     "name": "stdout",
     "output_type": "stream",
     "text": [
      "X_train_tensor shape: torch.Size([33598, 1, 10])\n",
      "y_train_tensor shape: torch.Size([33598])\n",
      "X_val_tensor shape: torch.Size([33598, 1, 10])\n",
      "y_val_tensor shape: torch.Size([33598])\n",
      "X_test_tensor shape: torch.Size([100795, 1, 10])\n",
      "y_test_tensor shape: torch.Size([100795])\n"
     ]
    }
   ],
   "source": [
    "X_train_tensor = torch.tensor(X_train).unsqueeze(1).float()\n",
    "y_train_tensor = torch.tensor(y_train).long()\n",
    "\n",
    "X_val_tensor = torch.tensor(X_val).unsqueeze(1).float()\n",
    "y_val_tensor = torch.tensor(y_val).long()\n",
    "\n",
    "X_test_tensor = torch.tensor(X_test).unsqueeze(1).float()\n",
    "y_test_tensor = torch.tensor(y_test).long()\n",
    "print(\"X_train_tensor shape:\", X_train_tensor.shape)\n",
    "print(\"y_train_tensor shape:\", y_train_tensor.shape)\n",
    "print(\"X_val_tensor shape:\", X_val_tensor.shape)\n",
    "print(\"y_val_tensor shape:\", y_val_tensor.shape)\n",
    "print(\"X_test_tensor shape:\", X_test_tensor.shape)\n",
    "print(\"y_test_tensor shape:\", y_test_tensor.shape)\n"
   ]
  },
  {
   "cell_type": "markdown",
   "id": "d50dc79a",
   "metadata": {},
   "source": [
    "# Create Data Loaders for Labeled and Unlabeled Data"
   ]
  },
  {
   "cell_type": "code",
   "execution_count": 82,
   "id": "c21a408d",
   "metadata": {},
   "outputs": [],
   "source": [
    "\n",
    "#train_dataset = TimeSeriesDataset(X_train_tensor, y_train_tensor)\n",
    "#train_loader = DataLoader(train_dataset, batch_size=batch_size, shuffle=False) #TODO adjust Shuffle training data? \n",
    "#full_train_dataset = TimeSeriesDataset(X_train_tensor, y_train_tensor)\n",
    "#\n",
    "#val_dataset = TimeSeriesDataset(X_val_tensor, y_val_tensor)\n",
    "#val_loader = DataLoader(val_dataset, batch_size=batch_size, shuffle=False)\n",
    "#\n",
    "#\n",
    "#test_dataset = TimeSeriesDataset(X_test_tensor, y_test_tensor)\n",
    "#test_loader = DataLoader(test_dataset, batch_size=batch_size, shuffle=False)\n",
    "#\n",
    "X_train_dataset = torch.utils.data.TensorDataset(X_train_tensor)\n",
    "X_train_loader = torch.utils.data.DataLoader(X_train_dataset, batch_size=batch_size, shuffle=False)"
   ]
  },
  {
   "cell_type": "code",
   "execution_count": 83,
   "id": "5fa295ef",
   "metadata": {},
   "outputs": [],
   "source": [
    "class Conv1dAutoencoder(nn.Module):\n",
    "    def __init__(self, input_length, latent_dim):\n",
    "        super(Conv1dAutoencoder, self).__init__()\n",
    "        self.input_length = input_length\n",
    "        self.latent_dim = latent_dim\n",
    "\n",
    "        # Encoder: Conv1d downsampling\n",
    "        self.encoder = nn.Sequential(\n",
    "            nn.Conv1d(1, 16, kernel_size=3, stride=2, padding=1),\n",
    "            nn.ReLU(True),\n",
    "            nn.Conv1d(16, 8, kernel_size=3, stride=2, padding=1),\n",
    "            nn.ReLU(True)\n",
    "        )\n",
    "        # infer flattened size\n",
    "        with torch.no_grad():\n",
    "            dummy = torch.zeros(1, 1, self.input_length)\n",
    "            enc = self.encoder(dummy)\n",
    "            c, l = enc.shape[1], enc.shape[2]\n",
    "            self._flattened_size = c * l\n",
    "\n",
    "        # Bottleneck\n",
    "        self.fc1 = nn.Linear(self._flattened_size, self.latent_dim)\n",
    "        self.fc2 = nn.Linear(self.latent_dim, self._flattened_size)\n",
    "\n",
    "        # Decoder: ConvTranspose1d upsampling\n",
    "        self.decoder = nn.Sequential(\n",
    "            nn.Unflatten(1, (c, l)),\n",
    "            nn.ConvTranspose1d(c, 16, kernel_size=3, stride=2, padding=1, output_padding=1),\n",
    "            nn.ReLU(True),\n",
    "            nn.ConvTranspose1d(16, 1, kernel_size=3, stride=2, padding=1, output_padding=1),\n",
    "            nn.Sigmoid()\n",
    "        )\n",
    "\n",
    "    def encode(self, x):\n",
    "        x = self.encoder(x)\n",
    "        x = x.view(x.size(0), -1)\n",
    "        return self.fc1(x)\n",
    "\n",
    "    def decode(self, z):\n",
    "        x = self.fc2(z)\n",
    "        x = self.decoder(x)\n",
    "        return x[..., :self.input_length]\n",
    "\n",
    "    def forward(self, x):\n",
    "        z = self.encode(x)\n",
    "        return self.decode(z), z\n"
   ]
  },
  {
   "cell_type": "code",
   "execution_count": 84,
   "id": "1c69df77",
   "metadata": {},
   "outputs": [
    {
     "name": "stdout",
     "output_type": "stream",
     "text": [
      "Epoch 1 Loss 0.003358\n",
      "Epoch 2 Loss 0.000290\n",
      "Epoch 3 Loss 0.000129\n",
      "Epoch 4 Loss 0.000114\n",
      "Epoch 5 Loss 0.000109\n",
      "Epoch 6 Loss 0.000105\n",
      "Epoch 7 Loss 0.000103\n",
      "Epoch 8 Loss 0.000101\n",
      "Epoch 9 Loss 0.000099\n",
      "Epoch 10 Loss 0.000096\n",
      "Epoch 11 Loss 0.000092\n",
      "Epoch 12 Loss 0.000087\n",
      "Epoch 13 Loss 0.000081\n",
      "Epoch 14 Loss 0.000078\n",
      "Epoch 15 Loss 0.000077\n",
      "Epoch 16 Loss 0.000076\n",
      "Epoch 17 Loss 0.000076\n",
      "Epoch 18 Loss 0.000075\n",
      "Epoch 19 Loss 0.000075\n",
      "Epoch 20 Loss 0.000074\n",
      "Epoch 21 Loss 0.000074\n",
      "Epoch 22 Loss 0.000074\n",
      "Epoch 23 Loss 0.000073\n",
      "Epoch 24 Loss 0.000073\n",
      "Epoch 25 Loss 0.000073\n",
      "Epoch 26 Loss 0.000072\n",
      "Epoch 27 Loss 0.000072\n",
      "Epoch 28 Loss 0.000071\n",
      "Epoch 29 Loss 0.000071\n",
      "Epoch 30 Loss 0.000070\n",
      "Epoch 31 Loss 0.000069\n",
      "Epoch 32 Loss 0.000068\n",
      "Epoch 33 Loss 0.000067\n",
      "Epoch 34 Loss 0.000065\n",
      "Epoch 35 Loss 0.000063\n",
      "Epoch 36 Loss 0.000061\n",
      "Epoch 37 Loss 0.000059\n",
      "Epoch 38 Loss 0.000055\n",
      "Epoch 39 Loss 0.000053\n",
      "Epoch 40 Loss 0.000051\n",
      "Epoch 41 Loss 0.000050\n",
      "Epoch 42 Loss 0.000050\n",
      "Epoch 43 Loss 0.000049\n",
      "Epoch 44 Loss 0.000049\n",
      "Epoch 45 Loss 0.000049\n",
      "Epoch 46 Loss 0.000049\n",
      "Epoch 47 Loss 0.000049\n",
      "Epoch 48 Loss 0.000049\n",
      "Epoch 49 Loss 0.000049\n",
      "Epoch 50 Loss 0.000049\n",
      "Epoch 51 Loss 0.000048\n",
      "Epoch 52 Loss 0.000048\n",
      "Epoch 53 Loss 0.000048\n",
      "Epoch 54 Loss 0.000048\n",
      "Epoch 55 Loss 0.000048\n",
      "Epoch 56 Loss 0.000048\n",
      "Epoch 57 Loss 0.000048\n",
      "Epoch 58 Loss 0.000048\n",
      "Epoch 59 Loss 0.000048\n",
      "Epoch 60 Loss 0.000048\n",
      "Epoch 61 Loss 0.000048\n",
      "Epoch 62 Loss 0.000048\n",
      "Epoch 63 Loss 0.000048\n",
      "Epoch 64 Loss 0.000048\n",
      "Epoch 65 Loss 0.000048\n",
      "Epoch 66 Loss 0.000048\n",
      "Epoch 67 Loss 0.000048\n",
      "Epoch 68 Loss 0.000048\n",
      "Epoch 69 Loss 0.000048\n",
      "Epoch 70 Loss 0.000048\n",
      "Epoch 71 Loss 0.000048\n",
      "Epoch 72 Loss 0.000048\n",
      "Epoch 73 Loss 0.000048\n",
      "Epoch 74 Loss 0.000048\n",
      "Epoch 75 Loss 0.000048\n",
      "Epoch 76 Loss 0.000048\n",
      "Epoch 77 Loss 0.000048\n",
      "Epoch 78 Loss 0.000048\n",
      "Epoch 79 Loss 0.000048\n",
      "Epoch 80 Loss 0.000048\n",
      "Epoch 81 Loss 0.000048\n",
      "Epoch 82 Loss 0.000048\n",
      "Epoch 83 Loss 0.000048\n",
      "Epoch 84 Loss 0.000048\n",
      "Epoch 85 Loss 0.000048\n",
      "Epoch 86 Loss 0.000048\n",
      "Epoch 87 Loss 0.000048\n",
      "Epoch 88 Loss 0.000048\n",
      "Epoch 89 Loss 0.000047\n",
      "Epoch 90 Loss 0.000047\n",
      "Epoch 91 Loss 0.000047\n",
      "Epoch 92 Loss 0.000047\n",
      "Epoch 93 Loss 0.000047\n",
      "Epoch 94 Loss 0.000047\n",
      "Epoch 95 Loss 0.000047\n",
      "Epoch 96 Loss 0.000047\n",
      "Epoch 97 Loss 0.000047\n",
      "Epoch 98 Loss 0.000047\n",
      "Epoch 99 Loss 0.000047\n",
      "Epoch 100 Loss 0.000047\n",
      "Training time: 92.02339196205139 seconds\n"
     ]
    }
   ],
   "source": [
    "time_start = time.time()\n",
    "model = Conv1dAutoencoder(input_length=window_size, latent_dim=latent_dim).to(device)\n",
    "opt = optim.Adam(model.parameters(), lr=train_learning_rate)\n",
    "loss_fn = nn.MSELoss()\n",
    "\n",
    "model.train()\n",
    "for ep in range(train_num_epochs):\n",
    "    tot=0\n",
    "    for bx, in X_train_loader:\n",
    "        bx = bx.to(device)\n",
    "        recon, _ = model(bx)\n",
    "        loss = loss_fn(recon, bx)\n",
    "        opt.zero_grad(); loss.backward(); opt.step()\n",
    "        tot+=loss.item()\n",
    "    print(f'Epoch {ep+1} Loss {tot/len(X_train_loader):.6f}')\n",
    "time_end = time.time()\n",
    "print(\"Training time:\", time_end - time_start, \"seconds\")"
   ]
  },
  {
   "cell_type": "code",
   "execution_count": 85,
   "id": "c824fd30",
   "metadata": {},
   "outputs": [
    {
     "data": {
      "text/plain": [
       "Conv1dAutoencoder(\n",
       "  (encoder): Sequential(\n",
       "    (0): Conv1d(1, 16, kernel_size=(3,), stride=(2,), padding=(1,))\n",
       "    (1): ReLU(inplace=True)\n",
       "    (2): Conv1d(16, 8, kernel_size=(3,), stride=(2,), padding=(1,))\n",
       "    (3): ReLU(inplace=True)\n",
       "  )\n",
       "  (fc1): Linear(in_features=24, out_features=6, bias=True)\n",
       "  (fc2): Linear(in_features=6, out_features=24, bias=True)\n",
       "  (decoder): Sequential(\n",
       "    (0): Unflatten(dim=1, unflattened_size=(8, 3))\n",
       "    (1): ConvTranspose1d(8, 16, kernel_size=(3,), stride=(2,), padding=(1,), output_padding=(1,))\n",
       "    (2): ReLU(inplace=True)\n",
       "    (3): ConvTranspose1d(16, 1, kernel_size=(3,), stride=(2,), padding=(1,), output_padding=(1,))\n",
       "    (4): Sigmoid()\n",
       "  )\n",
       ")"
      ]
     },
     "execution_count": 85,
     "metadata": {},
     "output_type": "execute_result"
    }
   ],
   "source": [
    "model.eval()\n",
    "#print(summary(\n",
    "#model,\n",
    "#input_size=(32, 1, window_size),\n",
    "#))"
   ]
  },
  {
   "cell_type": "code",
   "execution_count": 86,
   "id": "5da2af45",
   "metadata": {},
   "outputs": [
    {
     "name": "stdout",
     "output_type": "stream",
     "text": [
      "Compressing time: 0.12424993515014648 seconds\n"
     ]
    }
   ],
   "source": [
    "time_start = time.time()\n",
    "with torch.no_grad():\n",
    "    recon1, z_train = model(X_train_tensor.to(device))\n",
    "    recon2, z_val = model(X_val_tensor.to(device))\n",
    "    recon3, z_test = model(X_test_tensor.to(device))\n",
    "time_end = time.time()\n",
    "print(\"Compressing time:\", time_end - time_start, \"seconds\")\n",
    "np.save(save_dir+'z_train.npy', z_train.cpu().numpy())\n",
    "np.save(save_dir+'z_val.npy', z_val.cpu().numpy())\n",
    "np.save(save_dir+'z_test.npy', z_test.cpu().numpy())\n",
    "\n",
    "#dfz = pd.DataFrame(z, columns=[f'z{i}' for i in range(z.shape[1])])\n",
    "#dfz['label'] = y_train\n",
    "#dfz.to_csv('compressed_with_labels.csv', index=False)\n",
    "# sizes\n",
    "z_train_size = os.path.getsize(save_dir+'z_train.npy')\n",
    "z_val_size = os.path.getsize(save_dir+'z_val.npy')\n",
    "z_test_size = os.path.getsize(save_dir+'z_test.npy')"
   ]
  },
  {
   "cell_type": "code",
   "execution_count": 87,
   "id": "83e8f476",
   "metadata": {},
   "outputs": [
    {
     "name": "stdout",
     "output_type": "stream",
     "text": [
      "Uncompressed: 1344048 bytes\n",
      "Compressed: 806480 bytes\n",
      "Ratio: 0.600\n",
      "\n",
      "Uncompressed: 1344048 bytes\n",
      "Compressed: 806480 bytes\n",
      "Ratio: 0.600\n",
      "\n",
      "Uncompressed: 4031928 bytes\n",
      "Compressed: 2419208 bytes\n",
      "Ratio: 0.600\n",
      "\n"
     ]
    }
   ],
   "source": [
    "train_ratio = z_train_size / X_train_size if X_train_size else float('nan')\n",
    "print(f\"Uncompressed: {X_train_size} bytes\\nCompressed: {z_train_size} bytes\\nRatio: {train_ratio:.3f}\\n\")\n",
    "val_ratio = z_val_size / X_val_size if X_val_size else float('nan')\n",
    "print(f\"Uncompressed: {X_val_size} bytes\\nCompressed: {z_val_size} bytes\\nRatio: {val_ratio:.3f}\\n\")\n",
    "test_ratio = z_test_size / X_test_size if X_test_size else float('nan')\n",
    "print(f\"Uncompressed: {X_test_size} bytes\\nCompressed: {z_test_size} bytes\\nRatio: {test_ratio:.3f}\\n\")\n"
   ]
  },
  {
   "cell_type": "markdown",
   "id": "b73e288d",
   "metadata": {},
   "source": [
    "# Instantiate and Train the Conditional VAE"
   ]
  },
  {
   "cell_type": "code",
   "execution_count": 88,
   "id": "b441bd50",
   "metadata": {},
   "outputs": [],
   "source": [
    "def evaluate_model(model, data_loader):\n",
    "    model.eval()\n",
    "    total_loss = 0\n",
    "    total_correct = 0\n",
    "    total_samples = 0\n",
    "    criterion = nn.CrossEntropyLoss()\n",
    "\n",
    "    with torch.no_grad():\n",
    "        for data, target in data_loader:\n",
    "            data = data.to(device)\n",
    "            target = target.to(device)\n",
    "\n",
    "            # Forward pass\n",
    "            x_rec, class_logits = model(data)\n",
    "            \n",
    "            # Compute classification loss\n",
    "            loss = criterion(class_logits, target)\n",
    "            total_loss += loss.item() * data.size(0)\n",
    "\n",
    "            # Compute accuracy\n",
    "            preds = class_logits.argmax(dim=1)\n",
    "            total_correct += (preds == target).sum().item()\n",
    "            total_samples += data.size(0)\n",
    "\n",
    "    avg_loss = total_loss / total_samples\n",
    "    avg_acc = total_correct / total_samples\n",
    "\n",
    "    return avg_loss, avg_acc\n"
   ]
  },
  {
   "cell_type": "code",
   "execution_count": 89,
   "id": "89ea30df",
   "metadata": {},
   "outputs": [],
   "source": [
    "def plot_training_loss(model_name, save_dir):\n",
    "    training_traj = np.load(save_dir+model_name+\"_training_loss.npz\")\n",
    "\n",
    "    total_loss = training_traj['training_total_loss']\n",
    "    rec_loss = training_traj['training_rec_loss']\n",
    "    kl_loss = training_traj['training_kl_loss']\n",
    "    class_loss = training_traj['training_class_loss']\n",
    "    plt.figure(figsize=(16, 16))\n",
    "    plt.suptitle(model_name, fontsize=16)\n",
    "    plt.subplot(2, 2, 1)\n",
    "    plt.title(\"Total Loss\", fontsize=12)\n",
    "    plt.plot(range(len(total_loss)), total_loss)\n",
    "    plt.tick_params(axis='both', which='major', labelsize=14)\n",
    "    plt.subplot(2, 2, 2)\n",
    "    plt.title(\"Reconstruction Loss\", fontsize=12)\n",
    "    plt.plot(range(len(total_loss)), rec_loss)\n",
    "    plt.tick_params(axis='both', which='major', labelsize=14)\n",
    "    plt.subplot(2, 2, 3)\n",
    "    plt.title(\"KL Loss\", fontsize=12)\n",
    "    plt.plot(range(len(total_loss)), kl_loss)\n",
    "    plt.tick_params(axis='both', which='major', labelsize=14)\n",
    "    plt.subplot(2, 2, 4)\n",
    "    plt.title(\"Classification Loss\", fontsize=12)\n",
    "    plt.plot(range(len(total_loss)), class_loss)\n",
    "    plt.tick_params(axis='both', which='major', labelsize=14)\n",
    "    \n",
    "#for fold in range(k_folds):\n",
    "#    plot_training_loss(\"CondVAE_model\"+str(fold+1), save_dir)"
   ]
  },
  {
   "cell_type": "markdown",
   "id": "019aa278",
   "metadata": {},
   "source": [
    "# Initialize 3 new models for fine-tuning"
   ]
  },
  {
   "cell_type": "markdown",
   "id": "7809e18a",
   "metadata": {},
   "source": [
    "# Verify the 3 new models"
   ]
  },
  {
   "cell_type": "markdown",
   "id": "e06774dd",
   "metadata": {},
   "source": [
    "# Evaluate the Model and Detect Anomalies"
   ]
  },
  {
   "cell_type": "code",
   "execution_count": 90,
   "id": "2eed4ad1",
   "metadata": {},
   "outputs": [],
   "source": [
    "def compute_anomaly_scores(model, data_loader):\n",
    "    model.eval()\n",
    "    rec_errors = []\n",
    "    anomaly_probs = []\n",
    "    true_labels = []\n",
    "    predictions = []\n",
    "\n",
    "    with torch.no_grad():\n",
    "        for X_batch, y_batch in data_loader:\n",
    "            X_batch = X_batch.unsqueeze(1).to(device)\n",
    "            y_batch = y_batch.to(device)\n",
    "\n",
    "            x_rec, class_logits = model(X_batch)\n",
    "            y_probs = F.softmax(class_logits, dim=1)\n",
    "\n",
    "            # Reconstruction error\n",
    "            rec_error = torch.mean((X_batch - x_rec) ** 2, dim=[1, 2])\n",
    "\n",
    "            # Classification probability for anomaly class\n",
    "            anomaly_prob = y_probs[:, 1]\n",
    "\n",
    "            # Combine scores\n",
    "            #anomaly_score = rec_error * anomaly_prob\n",
    "            rec_errors.extend(rec_error.cpu().numpy())\n",
    "            anomaly_probs.extend(anomaly_prob.cpu().numpy())\n",
    "            true_labels.extend(y_batch.cpu().numpy())\n",
    "            predictions.extend(torch.argmax(class_logits, dim=1).cpu().numpy())\n",
    "\n",
    "    return np.array(rec_errors), np.array(anomaly_probs), np.array(true_labels), np.array(predictions)\n",
    "\n"
   ]
  }
 ],
 "metadata": {
  "kernelspec": {
   "display_name": "cvae",
   "language": "python",
   "name": "python3"
  },
  "language_info": {
   "codemirror_mode": {
    "name": "ipython",
    "version": 3
   },
   "file_extension": ".py",
   "mimetype": "text/x-python",
   "name": "python",
   "nbconvert_exporter": "python",
   "pygments_lexer": "ipython3",
   "version": "3.9.18"
  }
 },
 "nbformat": 4,
 "nbformat_minor": 5
}
