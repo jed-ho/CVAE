{
 "cells": [
  {
   "cell_type": "code",
   "execution_count": 39,
   "metadata": {},
   "outputs": [
    {
     "name": "stderr",
     "output_type": "stream",
     "text": [
      "C:\\Users\\jed95\\AppData\\Local\\Temp\\ipykernel_23096\\2484116585.py:37: UserWarning: Tight layout not applied. The left and right margins cannot be made large enough to accommodate all Axes decorations.\n",
      "  plt.tight_layout()\n"
     ]
    },
    {
     "data": {
      "image/png": "[encoded data removed]",
      "text/plain": [
       "<Figure size 1600x80 with 1 Axes>"
      ]
     },
     "metadata": {},
     "output_type": "display_data"
    }
   ],
   "source": [
    "import numpy as np\n",
    "import matplotlib.pyplot as plt\n",
    "\n",
    "# 參數設定 --------------------------------------------------\n",
    "x_start, x_end = 0, 26       # 水平線起訖\n",
    "num_ticks      = 14        # 刻度條數 (= n)\n",
    "tick_len       = 0.1          # 單邊刻度長度\n",
    "label_gap      = 0.1       # 標籤與刻度線的垂直距離\n",
    "           # 標籤字體大小\n",
    "# ----------------------------------------------------------\n",
    "\n",
    "fig, ax = plt.subplots(figsize=(16, 0.8))\n",
    "\n",
    "# 1) 畫主水平線\n",
    "ax.hlines(y=0, xmin=0, xmax=22, linewidth=2)\n",
    "# 畫虛線\n",
    "ax.hlines(y=0, xmin=22, xmax=x_end, linewidth=2, linestyle='dotted')\n",
    "#ax.hlines(y=0, xmin=8, xmax=x_end+2, linewidth=2, colors=\"white\")\n",
    "\n",
    "# 2) 畫垂直刻度線並加標籤\n",
    "xs = np.linspace(x_start, x_end, num_ticks)\n",
    "for i, x in enumerate(xs, start=1):          # i = 1, 2, …, n\n",
    "    if i!=13:\n",
    "        ax.vlines(x, -tick_len, tick_len, linewidth=2)\n",
    "        if i==14:    \n",
    "            ax.text(x, tick_len + label_gap,\n",
    "            rf'$X_{{n}}$',   \n",
    "            ha='center', va='top', fontsize=12)\n",
    "        else:\n",
    "            ax.text(x, tick_len + label_gap,\n",
    "            rf'$X_{{{i}}}$',  \n",
    "            ha='center', va='top', fontsize=12)\n",
    "\n",
    "\n",
    "# 3) 清理座標軸外觀\n",
    "ax.set_axis_off()\n",
    "plt.tight_layout()\n",
    "plt.show()\n"
   ]
  },
  {
   "cell_type": "code",
   "execution_count": 58,
   "metadata": {},
   "outputs": [
    {
     "name": "stderr",
     "output_type": "stream",
     "text": [
      "C:\\Users\\jed95\\AppData\\Local\\Temp\\ipykernel_23096\\956204498.py:52: UserWarning: Tight layout not applied. The left and right margins cannot be made large enough to accommodate all Axes decorations.\n",
      "  plt.tight_layout()\n"
     ]
    },
    {
     "data": {
      "image/png": "[encoded data removed]",
      "text/plain": [
       "<Figure size 1600x80 with 1 Axes>"
      ]
     },
     "metadata": {},
     "output_type": "display_data"
    }
   ],
   "source": [
    "import numpy as np\n",
    "import matplotlib.pyplot as plt\n",
    "\n",
    "# 參數設定 --------------------------------------------------\n",
    "x_start, x_end = 0, 26         # 水平線起訖\n",
    "num_ticks      = 14        # 刻度條數 (= n)\n",
    "tick_len       = 0.1          # 單邊刻度長度\n",
    "label_gap      = 0.1       # 標籤與刻度線的垂直距離\n",
    "fontsize       = 12        # 標籤字體大小\n",
    "t = 0.8    \n",
    "# ----------------------------------------------------------\n",
    "\n",
    "fig, ax = plt.subplots(figsize=(16, 0.8))\n",
    "\n",
    "# 1) 畫主水平線\n",
    "ax.hlines(y=0, xmin=0, xmax=4, linewidth=2)\n",
    "# 畫虛線\n",
    "ax.hlines(y=0, xmin=4, xmax=8, linewidth=2, linestyle='dotted')\n",
    "#ax.hlines(y=0, xmin=8, xmax=10, linewidth=2)\n",
    "ax.hlines(y=0, xmin=8, xmax=x_end, linewidth=2, colors=\"white\")\n",
    "\n",
    "# 2) 畫垂直刻度線並加標籤\n",
    "xs = np.linspace(x_start, x_end, num_ticks)\n",
    "for i, x in enumerate(xs, start=1):          # i = 1, 2, …, n\n",
    "    if i<=3 or i==5:\n",
    "        ax.vlines(x, -tick_len, tick_len, linewidth=2)\n",
    "\n",
    "    if i== 1:\n",
    "        ax.text(x-t,\n",
    "                -tick_len - label_gap+0.06,\n",
    "                rf'$\\{{x_{{{i}}},\\dots,x_{{{i+9}}}\\}}$', ha='center', va='top', fontsize=fontsize)\n",
    "        ax.text(x-t,-tick_len - label_gap-0.06,\"Rolling Window 1\", ha='center', va='top', fontsize=fontsize-3)\n",
    "    elif i== 2:\n",
    "        ax.text(x,\n",
    "                -tick_len - label_gap+0.06,\n",
    "                rf'$\\{{x_{{{i}}},\\dots,x_{{{i+9}}}\\}}$', ha='center', va='top', fontsize=fontsize)\n",
    "        ax.text(x,-tick_len - label_gap-0.06,\"Rolling Window 2\", ha='center', va='top', fontsize=fontsize-3)\n",
    "    elif i== 3:\n",
    "        ax.text(x+t,\n",
    "                -tick_len - label_gap+0.06,\n",
    "                rf'$\\{{x_{{{i}}},\\dots,x_{{{i+9}}}\\}}$', ha='center', va='top', fontsize=fontsize)\n",
    "        ax.text(x+t,-tick_len - label_gap-0.06,\"Rolling Window 3\", ha='center', va='top', fontsize=fontsize-3)\n",
    "    elif i== 5:\n",
    "        ax.text(x+t,\n",
    "                -tick_len - label_gap+0.06,\n",
    "                rf'$\\{{x_{{n-9}},\\dots,x_{{n}}\\}}$', ha='center', va='top', fontsize=fontsize)\n",
    "        ax.text(x+t,-tick_len - label_gap-0.06,\"Rolling Window n-9\", ha='center', va='top', fontsize=fontsize-3)\n",
    "\n",
    "\n",
    "# 3) 清理座標軸外觀\n",
    "ax.set_axis_off()\n",
    "plt.tight_layout()\n",
    "plt.show()\n"
   ]
  }
 ],
 "metadata": {
  "kernelspec": {
   "display_name": "cvae",
   "language": "python",
   "name": "python3"
  },
  "language_info": {
   "codemirror_mode": {
    "name": "ipython",
    "version": 3
   },
   "file_extension": ".py",
   "mimetype": "text/x-python",
   "name": "python",
   "nbconvert_exporter": "python",
   "pygments_lexer": "ipython3",
   "version": "3.9.18"
  }
 },
 "nbformat": 4,
 "nbformat_minor": 2
}
