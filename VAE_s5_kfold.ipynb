{
 "cells": [
  {
   "cell_type": "markdown",
   "id": "160e0d6c",
   "metadata": {},
   "source": [
    "# Demonstration of anomaly detection with CVAE using DASHlink data\n",
    "\n",
    "**Author: Milad Memarzadeh (milad.memarzadeh@nasa.gov)**\n",
    "\n",
    "In this notebook, we first learn about CVAE (Convolutional Variational Auto-Encoder) and its different components. Then, we will apply CVAE to a dataset from DASHlink project (https://c3.ndc.nasa.gov/dashlink/projects/85/) for anomaly detection."
   ]
  },
  {
   "cell_type": "markdown",
   "id": "a4b33fbd",
   "metadata": {},
   "source": [
    "### Part 1. What is a Variational Auto-Encoder?\n",
    "\n",
    "In this part, we first learn about the Variational Auto-Encoders (VAEs) and their use cases. VAEs are the generalization of Auto-Encoders that learn a lower-dimensional representation of the data using nonlinear transformations through neural networks in an unsupervised fashion. They are sometimes referred to as nonlinear Principal Component Analysis (PCA). The consists of two main components: (1) an encoder, $q_{\\phi}(z \\mid x)$, that maps the input data $𝑋$ to a lower-dimensional space, $𝑍$ (which is also called latent space), and (2) a decoder, $p_{\\theta}(x \\mid z)$ that reconstructs the original data $\\hat{X}$ by sampling from the low-dimensional latent space. Both encoder and decoder are parameterized by neural networks. \n",
    "\n",
    "VAEs use a regularizer to control the complexity of the distribution of the learned representations in the latent space. the main goal is that with proper regularization of the posterior distribution of the data in the latent space, i.e., $q_{\\phi}(z \\mid x)$, the model will be able to generalize better to an unseen data. They are trained based on two optimization objectives: (1) to optimize the quality/fidelity of the reconstructed data compared to the original ones, and (2) to regularize the posterior distribution of the latent space to not form a very complex distribution. This objective does not allow the model to overfit to the training data and be able to generalize to an unseen data with higher accuracy. The first objective is imposed by minimizing the reconstruction error, which can be calculated as a mean squared error between the input and the output, i.e., $\\lVert X - \\hat{X} \\rVert_{2}^{2}$ or maximizing the log-likelihood of the generated data. The second objective is imposed by minimizing the KL-divergence between the posterior distribution of the latent feature space and its prior distribution. In most cases, the prior/posteriors are assumed to form a multivariate Gaussian distribution. Given this, the overal objective function is defined as follows,\n",
    "\n",
    "$$\\mathcal{L}( \\theta, \\phi ; \\beta, x, z) = \\mathbb{E}_{q_{\\phi}(z \\mid x)}[\\log p_{\\theta}(x \\mid z) - \\beta \\text{KL}(q_{\\phi}(z \\mid x) \\Vert p(z))]$$\n",
    "\n",
    "where $\\beta$ controls the effect of regularization term on the overal training."
   ]
  },
  {
   "cell_type": "markdown",
   "id": "5e5851a5",
   "metadata": {},
   "source": [
    "### Part 2. Convolutional VAE (CVAE)\n",
    "\n",
    "CVAE takes advantage of the convolutional neural networks to learn about the short-term as well as long-term temporal dependence in the input data. This is in comparison to fully connected neural networks that won't incorporate such temporal dependece. As a result, it is well-suited to work with multivariate time-series data. Figure below shows the illustration of the CVAE's architecture:\n",
    "\n",
    "\n",
    "<img src=\"cvae_arch.png\" alt=\"Drawing\" style=\"width: 400px;\"/>\n",
    "\n",
    "\n",
    "CVAE uses windowed time-series data as an input and applies series of convolutional operations with different filter sizes to take multiple local temporal dependencies into account. Then, the results of each series of convolutions are concatenated and mapped to the latent space. We use a similar architecture for both the encoder and the decoder. As a result, the decoder consists of a series of deconvolution and up-sampling with different filter sizes. Each branch of the encoder has four convolutional layers followed by a pooling layer, of which the number of input channels increases as the window size shrinks. Similarly, the decoder consists of four layers of de-convolution followed by an up-sampling layer, the number of input channels of which decreases as the window size expands.\n",
    "\n",
    "CVAE can be used for multiple purposes. It is an unsupervised reasoning model and does not require availability of labeled data for training. It is often used for:\n",
    "\n",
    "1. **Non-linear dimensionality reduction**: in this setting, it can be understood as a nonlinear Principal Component Analysis (PCA), where it uses series of nonlinear transformations to learn a lower-dimensional representation of the input data.\n",
    "\n",
    "2. **Anomaly detection**: if the training data consists mostly of nominal cases and few anomalies, one can imagine that training the model to reconstruct such data would only optimize this for the majority nominal data present in the training. Then, the reconstruction error can be used to detect those anomalous out-of-distribution data instances.\n",
    "\n",
    "\n",
    "3. **Data generation and augmentation**: once trained, CVAE can be used to generate and augment databases. One can perform random walks in the latent feature space and synthesize new data instances that are from the same distribution as the original input data.\n",
    "\n",
    "In this notebook, we will explore application of CVAE in finding anomalies in the final approach to landing of the commercial aircraft. We specifically focus on finding anomalies that are related to late deployment of the flaps, which results in a high speed and unstable approach to landing."
   ]
  },
  {
   "cell_type": "markdown",
   "id": "831f2c0d",
   "metadata": {},
   "source": [
    "### Part 3. Final approach to landing data from DASHlink project\n",
    "\n",
    "The is a Flight Operational Quality Assurance (FOQA) data of a commerical airline from DASHlink project (link at the top of the notebook). It comprises primarily 1-Hz recordings for each flight and covers a variety of systems. These include: the state and orientation of the aircraft, positions and inputs of the control surfaces, engine parameters, and auto pilot modes and corresponding states. The data is acquired in real time on-board the aircraft and downloaded by the airline once the aircraft has reached the destination gate. These time series are analyzed by domain experts, which derive threshold-based rules post-flight to flag known events and create labels. Each data instance is a 160 s long recording of 10 variables during the approach of the aircraft to landing (from a few seconds before an altitude of 1000 ft to a few seconds after an altitude of 500 ft). \n",
    "\n",
    "As mentioned before, we will focus on finding anomalies that are related to late deployment of the flaps, which results in a high speed and unstable approach to landing. Let us take a look at a sample of nominal and anomalous data instances. "
   ]
  },
  {
   "cell_type": "code",
   "execution_count": 1,
   "id": "d3a6137f",
   "metadata": {},
   "outputs": [],
   "source": [
    "import os\n",
    "import numpy as np\n",
    "import pandas as pd\n",
    "import matplotlib.pyplot as plt\n",
    "import warnings\n",
    "from sklearn.preprocessing import MinMaxScaler\n",
    "from source.modelsVAE import *\n",
    "from sklearn.model_selection import StratifiedKFold, StratifiedShuffleSplit\n",
    "\n",
    "from source.utils import *\n",
    "warnings.filterwarnings('ignore')\n",
    "import glob\n",
    "main_dir = os.path.dirname(os.getcwd())\n",
    "os.chdir(main_dir)\n",
    "#dir_2_data = \"./data/\"\n",
    "loading_dir = '/home/adlink3/Downloads/CVAE/output/'\n",
    "\n",
    "\n",
    "#sample_data = np.load(dir_2_data+\"Sample_raw_data.npz\")\n",
    "\n",
    "#plt.figure(figsize=(20, 7.5))\n",
    "#\n",
    "#for i in range(len(sample_data['param_names'])):\n",
    "#    plt.subplot(2, 5, i+1)\n",
    "#    plt.plot(sample_data['nominal'][:, i], label='Nominal', c='C0')\n",
    "#    plt.plot(sample_data['anomaly'][:, i], label='Anomalous', c='C1')\n",
    "#    plt.title(sample_data['param_names'][i])\n",
    "#    if i == 1:\n",
    "#        plt.legend(fontsize=12)\n",
    "#    plt.tick_params(axis='both', which='major', labelsize=12)"
   ]
  },
  {
   "cell_type": "markdown",
   "id": "8b697530",
   "metadata": {},
   "source": [
    "Now, let us load the entirety of the training and testing data and take a closer look:"
   ]
  },
  {
   "cell_type": "code",
   "execution_count": 2,
   "id": "c23dab94",
   "metadata": {},
   "outputs": [
    {
     "name": "stdout",
     "output_type": "stream",
     "text": [
      "Shape of the sequences: (141200, 1, 10)\n",
      "Shape of the labels: (141200,)\n"
     ]
    }
   ],
   "source": [
    "# Define your sequence creation function\n",
    "def create_sequences(values, labels, sequence_length):\n",
    "    sequences = []\n",
    "    seq_labels = []\n",
    "    for i in range(len(values) - sequence_length + 1):\n",
    "        seq = values[i:i + sequence_length]\n",
    "        label = labels[i + sequence_length - 1]  # Label of the last element in the sequence\n",
    "        sequences.append(seq)\n",
    "        seq_labels.append(label)\n",
    "    return np.array(sequences), np.array(seq_labels)\n",
    "\n",
    "# Load and process data function\n",
    "def load_and_process_data(sequence_length):\n",
    "    # Initialize lists to hold all sequences and labels\n",
    "    all_sequences = []\n",
    "    all_labels = []\n",
    "    \n",
    "    # Initialize the MinMaxScaler\n",
    "    scaler = MinMaxScaler(feature_range=(0, 1))\n",
    "    \n",
    "    # Load all CSV files in the A2Benchmark directory\n",
    "    if os.name == 'nt':\n",
    "        data_dir = 'C:/Users/jed95/Documents/GitHub/anomaly_detection/dataset/yahoo_s5/A2Benchmark/'\n",
    "    else:\n",
    "        data_dir = '/home/adlink3/Downloads/yahoo_s5/A2Benchmark/' \n",
    "    data_files = glob.glob(data_dir+'*.csv')\n",
    "    for file in data_files:\n",
    "        df = pd.read_csv(file)\n",
    "        # Ensure the DataFrame has the necessary columns\n",
    "        if {'value', 'is_anomaly'}.issubset(df.columns):\n",
    "            # Reshape 'value' for the scaler\n",
    "            values = df['value'].values.reshape(-1, 1)\n",
    "            labels = df['is_anomaly'].values\n",
    "                \n",
    "            # Fit and transform the values using MinMaxScaler\n",
    "            scaled_values = scaler.fit_transform(values).flatten()\n",
    "                \n",
    "            # Create sequences from the scaled values\n",
    "            sequences, seq_labels = create_sequences(scaled_values, labels, sequence_length)\n",
    "            all_sequences.append(sequences)\n",
    "            all_labels.append(seq_labels)\n",
    "        else:\n",
    "            print(f\"Skipping file {file} as it does not contain the required columns.\")\n",
    "        \n",
    "    # Concatenate all sequences and labels\n",
    "    all_sequences = np.concatenate(all_sequences, axis=0)\n",
    "    all_labels = np.concatenate(all_labels, axis=0)\n",
    "    return all_sequences, all_labels\n",
    "\n",
    "# Set your desired sequence length\n",
    "sequence_length = 10\n",
    "\n",
    "# Load and process the data\n",
    "sequences, labels = load_and_process_data(sequence_length)\n",
    "\n",
    "# Reshape data to have shape (data_length, sequence_length, num_params)\n",
    "num_params = 1  # Since the data is univariate\n",
    "sequences = sequences.reshape(-1, sequence_length, num_params)\n",
    "\n",
    "# Transpose data if necessary\n",
    "sequences = np.transpose(sequences, axes=(0, 2, 1))  # Shape: (data_length, num_params, sequence_length)\n",
    "\n",
    "# Output shapes\n",
    "print(\"Shape of the sequences:\", sequences.shape)\n",
    "print(\"Shape of the labels:\", labels.shape)"
   ]
  },
  {
   "cell_type": "code",
   "execution_count": 3,
   "id": "6cb4fb32",
   "metadata": {},
   "outputs": [
    {
     "name": "stdout",
     "output_type": "stream",
     "text": [
      "Training data shape: (72012, 1, 10)\n",
      "Training labels distribution: (array([0, 1]), array([71774,   238]))\n",
      "Testing data shape: (69188, 1, 10)\n",
      "Testing labels distribution: (array([0, 1]), array([68960,   228]))\n"
     ]
    }
   ],
   "source": [
    "# Split data into training and testing sets using StratifiedShuffleSplit\n",
    "train_ratio = 0.51  # 51% training data\n",
    "sss = StratifiedShuffleSplit(n_splits=5, test_size=1 - train_ratio, random_state=42)\n",
    "\n",
    "for train_indices, test_indices in sss.split(sequences, labels):\n",
    "    x_train_full = sequences[train_indices]\n",
    "    y_train_full = labels[train_indices]\n",
    "    x_test = sequences[test_indices]\n",
    "    y_test = labels[test_indices]\n",
    "\n",
    "print(\"Training data shape:\", x_train_full.shape)\n",
    "print(\"Training labels distribution:\", np.unique(y_train_full, return_counts=True))\n",
    "print(\"Testing data shape:\", x_test.shape)\n",
    "print(\"Testing labels distribution:\", np.unique(y_test, return_counts=True))"
   ]
  },
  {
   "cell_type": "markdown",
   "id": "341a8bd3",
   "metadata": {},
   "source": [
    "### Part 4. Training CVAE\n",
    "\n",
    "In this section, we show you steps that needs to be take to train the CVAE. Although, we will only load up a trained model later on, we will show you details of the steps here:\n",
    "\n",
    "\n",
    "Let us first start with preparing the data loaders for the model training"
   ]
  },
  {
   "cell_type": "code",
   "execution_count": 4,
   "id": "9599316a",
   "metadata": {},
   "outputs": [],
   "source": [
    "# Convert data to float32\n",
    "x_train_full = x_train_full.astype(np.float32)\n",
    "x_test = x_test.astype(np.float32)"
   ]
  },
  {
   "cell_type": "markdown",
   "id": "431aaa32",
   "metadata": {},
   "source": [
    "Now let us configure a model and train it:"
   ]
  },
  {
   "cell_type": "code",
   "execution_count": 5,
   "id": "4345488d",
   "metadata": {},
   "outputs": [
    {
     "name": "stdout",
     "output_type": "stream",
     "text": [
      "\n",
      "Fold 1/5\n",
      "Fold Training data shape: (57609, 1, 10)\n",
      "Fold Training labels distribution: (array([0, 1]), array([57419,   190]))\n",
      "Fold Validation data shape: (14403, 1, 10)\n",
      "Fold Validation labels distribution: (array([0, 1]), array([14355,    48]))\n",
      "using:  cpu\n",
      "Number of Epochs:  10\n",
      "Epoch: 0,  Duration: 3.66\n",
      "[Loss Train]\t\t L: 0.0430, Rec: 0.0358, , KL: 7.1949\n",
      "[Loss Validation]\t\t L: 0.0131\n",
      "Epoch: 1,  Duration: 6.55\n",
      "[Loss Train]\t\t L: 0.0182, Rec: 0.0130, , KL: 5.2439\n",
      "[Loss Validation]\t\t L: 0.0106\n",
      "Epoch: 2,  Duration: 6.03\n",
      "[Loss Train]\t\t L: 0.0155, Rec: 0.0103, , KL: 5.1602\n",
      "[Loss Validation]\t\t L: 0.0110\n",
      "Epoch: 3,  Duration: 6.24\n",
      "[Loss Train]\t\t L: 0.0149, Rec: 0.0099, , KL: 5.0724\n",
      "[Loss Validation]\t\t L: 0.0083\n",
      "Epoch: 4,  Duration: 5.81\n",
      "[Loss Train]\t\t L: 0.0147, Rec: 0.0097, , KL: 5.0405\n",
      "[Loss Validation]\t\t L: 0.0203\n",
      "Epoch: 5,  Duration: 5.35\n",
      "[Loss Train]\t\t L: 0.0146, Rec: 0.0096, , KL: 5.0088\n",
      "[Loss Validation]\t\t L: 0.0123\n",
      "Epoch: 6,  Duration: 5.08\n",
      "[Loss Train]\t\t L: 0.0145, Rec: 0.0095, , KL: 4.9946\n",
      "[Loss Validation]\t\t L: 0.0124\n",
      "Epoch: 7,  Duration: 4.75\n",
      "[Loss Train]\t\t L: 0.0142, Rec: 0.0093, , KL: 4.9701\n",
      "[Loss Validation]\t\t L: 0.0086\n",
      "Epoch: 8,  Duration: 2.76\n",
      "[Loss Train]\t\t L: 0.0142, Rec: 0.0093, , KL: 4.9408\n",
      "[Loss Validation]\t\t L: 0.0220\n",
      "Epoch: 9,  Duration: 2.67\n",
      "[Loss Train]\t\t L: 0.0141, Rec: 0.0091, , KL: 4.9288\n",
      "[Loss Validation]\t\t L: 0.0167\n",
      "\n",
      "Fold 2/5\n",
      "Fold Training data shape: (57609, 1, 10)\n",
      "Fold Training labels distribution: (array([0, 1]), array([57419,   190]))\n",
      "Fold Validation data shape: (14403, 1, 10)\n",
      "Fold Validation labels distribution: (array([0, 1]), array([14355,    48]))\n",
      "using:  cpu\n",
      "Number of Epochs:  10\n",
      "Epoch: 0,  Duration: 2.15\n",
      "[Loss Train]\t\t L: 0.0429, Rec: 0.0375, , KL: 5.4340\n",
      "[Loss Validation]\t\t L: 0.0118\n",
      "Epoch: 1,  Duration: 2.91\n",
      "[Loss Train]\t\t L: 0.0252, Rec: 0.0217, , KL: 3.5187\n",
      "[Loss Validation]\t\t L: 0.0135\n",
      "Epoch: 2,  Duration: 4.44\n",
      "[Loss Train]\t\t L: 0.0221, Rec: 0.0179, , KL: 4.1640\n",
      "[Loss Validation]\t\t L: 0.0240\n",
      "Epoch: 3,  Duration: 6.33\n",
      "[Loss Train]\t\t L: 0.0196, Rec: 0.0151, , KL: 4.5041\n",
      "[Loss Validation]\t\t L: 0.0141\n",
      "Epoch: 4,  Duration: 5.84\n",
      "[Loss Train]\t\t L: 0.0190, Rec: 0.0145, , KL: 4.5147\n",
      "[Loss Validation]\t\t L: 0.0090\n",
      "Epoch: 5,  Duration: 6.44\n",
      "[Loss Train]\t\t L: 0.0166, Rec: 0.0118, , KL: 4.7637\n",
      "[Loss Validation]\t\t L: 0.0193\n",
      "Epoch: 6,  Duration: 5.65\n",
      "[Loss Train]\t\t L: 0.0151, Rec: 0.0103, , KL: 4.8194\n",
      "[Loss Validation]\t\t L: 0.0179\n",
      "Epoch: 7,  Duration: 6.15\n",
      "[Loss Train]\t\t L: 0.0146, Rec: 0.0098, , KL: 4.8216\n",
      "[Loss Validation]\t\t L: 0.0085\n",
      "Epoch: 8,  Duration: 6.70\n",
      "[Loss Train]\t\t L: 0.0145, Rec: 0.0096, , KL: 4.8294\n",
      "[Loss Validation]\t\t L: 0.0134\n",
      "Epoch: 9,  Duration: 7.17\n",
      "[Loss Train]\t\t L: 0.0143, Rec: 0.0095, , KL: 4.8478\n",
      "[Loss Validation]\t\t L: 0.0168\n",
      "\n",
      "Fold 3/5\n",
      "Fold Training data shape: (57610, 1, 10)\n",
      "Fold Training labels distribution: (array([0, 1]), array([57419,   191]))\n",
      "Fold Validation data shape: (14402, 1, 10)\n",
      "Fold Validation labels distribution: (array([0, 1]), array([14355,    47]))\n",
      "using:  cpu\n",
      "Number of Epochs:  10\n",
      "Epoch: 0,  Duration: 3.71\n",
      "[Loss Train]\t\t L: 0.0421, Rec: 0.0360, , KL: 6.1499\n",
      "[Loss Validation]\t\t L: 0.0109\n",
      "Epoch: 1,  Duration: 5.71\n",
      "[Loss Train]\t\t L: 0.0206, Rec: 0.0159, , KL: 4.7143\n",
      "[Loss Validation]\t\t L: 0.0242\n",
      "Epoch: 2,  Duration: 5.75\n",
      "[Loss Train]\t\t L: 0.0182, Rec: 0.0135, , KL: 4.7938\n",
      "[Loss Validation]\t\t L: 0.0162\n",
      "Epoch: 3,  Duration: 5.90\n",
      "[Loss Train]\t\t L: 0.0154, Rec: 0.0105, , KL: 4.9542\n",
      "[Loss Validation]\t\t L: 0.0085\n",
      "Epoch: 4,  Duration: 5.24\n",
      "[Loss Train]\t\t L: 0.0147, Rec: 0.0098, , KL: 4.9590\n",
      "[Loss Validation]\t\t L: 0.0154\n",
      "Epoch: 5,  Duration: 6.38\n",
      "[Loss Train]\t\t L: 0.0145, Rec: 0.0094, , KL: 5.0160\n",
      "[Loss Validation]\t\t L: 0.0141\n",
      "Epoch: 6,  Duration: 6.22\n",
      "[Loss Train]\t\t L: 0.0142, Rec: 0.0091, , KL: 5.1068\n",
      "[Loss Validation]\t\t L: 0.0108\n",
      "Epoch: 7,  Duration: 6.64\n",
      "[Loss Train]\t\t L: 0.0140, Rec: 0.0089, , KL: 5.0978\n",
      "[Loss Validation]\t\t L: 0.0059\n",
      "Epoch: 8,  Duration: 5.77\n",
      "[Loss Train]\t\t L: 0.0139, Rec: 0.0088, , KL: 5.1216\n",
      "[Loss Validation]\t\t L: 0.0168\n",
      "Epoch: 9,  Duration: 6.28\n",
      "[Loss Train]\t\t L: 0.0138, Rec: 0.0086, , KL: 5.1495\n",
      "[Loss Validation]\t\t L: 0.0135\n",
      "\n",
      "Fold 4/5\n",
      "Fold Training data shape: (57610, 1, 10)\n",
      "Fold Training labels distribution: (array([0, 1]), array([57419,   191]))\n",
      "Fold Validation data shape: (14402, 1, 10)\n",
      "Fold Validation labels distribution: (array([0, 1]), array([14355,    47]))\n",
      "using:  cpu\n",
      "Number of Epochs:  10\n",
      "Epoch: 0,  Duration: 3.56\n",
      "[Loss Train]\t\t L: 0.0428, Rec: 0.0354, , KL: 7.3561\n",
      "[Loss Validation]\t\t L: 0.0130\n",
      "Epoch: 1,  Duration: 5.66\n",
      "[Loss Train]\t\t L: 0.0203, Rec: 0.0155, , KL: 4.8197\n",
      "[Loss Validation]\t\t L: 0.0145\n",
      "Epoch: 2,  Duration: 5.62\n",
      "[Loss Train]\t\t L: 0.0175, Rec: 0.0126, , KL: 4.9056\n",
      "[Loss Validation]\t\t L: 0.0117\n",
      "Epoch: 3,  Duration: 6.43\n",
      "[Loss Train]\t\t L: 0.0157, Rec: 0.0108, , KL: 4.9288\n",
      "[Loss Validation]\t\t L: 0.0373\n",
      "Epoch: 4,  Duration: 6.94\n",
      "[Loss Train]\t\t L: 0.0153, Rec: 0.0104, , KL: 4.8963\n",
      "[Loss Validation]\t\t L: 0.0161\n",
      "Epoch: 5,  Duration: 6.00\n",
      "[Loss Train]\t\t L: 0.0150, Rec: 0.0101, , KL: 4.8650\n",
      "[Loss Validation]\t\t L: 0.0149\n",
      "Epoch: 6,  Duration: 6.77\n",
      "[Loss Train]\t\t L: 0.0148, Rec: 0.0099, , KL: 4.8319\n",
      "[Loss Validation]\t\t L: 0.0182\n",
      "Epoch: 7,  Duration: 6.56\n",
      "[Loss Train]\t\t L: 0.0146, Rec: 0.0097, , KL: 4.8473\n",
      "[Loss Validation]\t\t L: 0.0084\n",
      "Epoch: 8,  Duration: 6.29\n",
      "[Loss Train]\t\t L: 0.0144, Rec: 0.0095, , KL: 4.8503\n",
      "[Loss Validation]\t\t L: 0.0117\n",
      "Epoch: 9,  Duration: 6.58\n",
      "[Loss Train]\t\t L: 0.0144, Rec: 0.0095, , KL: 4.8505\n",
      "[Loss Validation]\t\t L: 0.0146\n",
      "\n",
      "Fold 5/5\n",
      "Fold Training data shape: (57610, 1, 10)\n",
      "Fold Training labels distribution: (array([0, 1]), array([57420,   190]))\n",
      "Fold Validation data shape: (14402, 1, 10)\n",
      "Fold Validation labels distribution: (array([0, 1]), array([14354,    48]))\n",
      "using:  cpu\n",
      "Number of Epochs:  10\n",
      "Epoch: 0,  Duration: 3.85\n",
      "[Loss Train]\t\t L: 0.0452, Rec: 0.0393, , KL: 5.8360\n",
      "[Loss Validation]\t\t L: 0.0182\n",
      "Epoch: 1,  Duration: 5.94\n",
      "[Loss Train]\t\t L: 0.0227, Rec: 0.0185, , KL: 4.2278\n",
      "[Loss Validation]\t\t L: 0.0918\n",
      "Epoch: 2,  Duration: 5.93\n",
      "[Loss Train]\t\t L: 0.0198, Rec: 0.0152, , KL: 4.5603\n",
      "[Loss Validation]\t\t L: 0.0139\n",
      "Epoch: 3,  Duration: 6.83\n",
      "[Loss Train]\t\t L: 0.0185, Rec: 0.0139, , KL: 4.6189\n",
      "[Loss Validation]\t\t L: 0.0103\n",
      "Epoch: 4,  Duration: 6.56\n",
      "[Loss Train]\t\t L: 0.0161, Rec: 0.0112, , KL: 4.8571\n",
      "[Loss Validation]\t\t L: 0.0133\n",
      "Epoch: 5,  Duration: 2.67\n",
      "[Loss Train]\t\t L: 0.0149, Rec: 0.0100, , KL: 4.9130\n",
      "[Loss Validation]\t\t L: 0.0312\n",
      "Epoch: 6,  Duration: 2.91\n",
      "[Loss Train]\t\t L: 0.0146, Rec: 0.0097, , KL: 4.8992\n",
      "[Loss Validation]\t\t L: 0.0177\n",
      "Epoch: 7,  Duration: 3.18\n",
      "[Loss Train]\t\t L: 0.0142, Rec: 0.0093, , KL: 4.9264\n",
      "[Loss Validation]\t\t L: 0.0136\n",
      "Epoch: 8,  Duration: 3.45\n",
      "[Loss Train]\t\t L: 0.0140, Rec: 0.0091, , KL: 4.9505\n",
      "[Loss Validation]\t\t L: 0.0142\n",
      "Epoch: 9,  Duration: 3.62\n",
      "[Loss Train]\t\t L: 0.0140, Rec: 0.0090, , KL: 5.0007\n",
      "[Loss Validation]\t\t L: 0.0108\n"
     ]
    }
   ],
   "source": [
    "# Cross-validation using StratifiedKFold on the training data\n",
    "n_splits = 5  # Number of folds\n",
    "\n",
    "batch_size = 64\n",
    "skf = StratifiedKFold(n_splits=n_splits, shuffle=True, random_state=42)\n",
    "train_dataset = Dataset(x_train_full)\n",
    "\n",
    "test_dataset = Dataset(x_test)\n",
    "train_data, test_data = get_dataset(train_dataset, test_dataset, batch_size)\n",
    "for fold, (train_indices, val_indices) in enumerate(skf.split(x_train_full, y_train_full)):\n",
    "    print(f\"\\nFold {fold + 1}/{n_splits}\")\n",
    "    # Get training and validation data for this fold\n",
    "    x_train = x_train_full[train_indices]\n",
    "    y_train = y_train_full[train_indices]\n",
    "    x_val = x_train_full[val_indices]\n",
    "    y_val = y_train_full[val_indices]\n",
    "\n",
    "    # Output shapes\n",
    "    print(\"Fold Training data shape:\", x_train.shape)\n",
    "    print(\"Fold Training labels distribution:\", np.unique(y_train, return_counts=True))\n",
    "    print(\"Fold Validation data shape:\", x_val.shape)\n",
    "    print(\"Fold Validation labels distribution:\", np.unique(y_val, return_counts=True))\n",
    "\n",
    "    # Prepare datasets\n",
    "    train_dataset = Dataset(x_train)\n",
    "    val_dataset = Dataset(x_val)\n",
    "    test_dataset = Dataset(x_test)\n",
    "\n",
    "    # Prepare data loaders\n",
    "    \n",
    "    train_data, val_data = get_dataset(train_dataset, val_dataset, batch_size)\n",
    "    \n",
    "\n",
    "    # Define your model parameters\n",
    "    num_epochs = 10  # Number of epochs for training\n",
    "    latent_dim = 10  # default:32 dimension of the latent space\n",
    "    beta = 0.001  # value of beta that controls the regularization\n",
    "    metric = 'MSE'  # Default:BCE choice of metric for calculating reconstruction error\n",
    "    training = 1  # whether to train the model or load a trained one\n",
    "\n",
    "    # Naming the model for saving\n",
    "    model_name = (f\"Demo_VAE_s5_l_{latent_dim}_beta_{beta}_batch_{batch_size}_metric_{metric}_fold_{fold + 1}\")\n",
    "\n",
    "    # Initiating the model\n",
    "    model = VAE(latent_dim=latent_dim, num_param=num_params, window_size=sequence_length, scale_flag=0)\n",
    "\n",
    "    # Setting up the optimizer\n",
    "    optimizer = torch.optim.Adam(model.parameters(), lr=1e-3)\n",
    "\n",
    "    # Training or loading the trained model\n",
    "    if training:\n",
    "        model = train_model(model, optimizer, model_name, train_data, val_data, loading_dir,\n",
    "                            metric, beta, num_epochs, save=True, verbose=1)\n",
    "    else:\n",
    "        model.load_state_dict(torch.load((loading_dir + model_name + \".pth\"),\n",
    "                              map_location=torch.device('cpu')))\n",
    "        print(\"Model loaded!\")"
   ]
  },
  {
   "cell_type": "markdown",
   "id": "3f665b01",
   "metadata": {},
   "source": [
    "### Part 5. Training statistics\n",
    "\n",
    "We have also saved the trajectory of training losses that we can visualize to make sure that the model has trained properly:\n",
    "\n",
    "**Note:** if you train a new model, this should be saved in your directory."
   ]
  },
  {
   "cell_type": "code",
   "execution_count": 6,
   "id": "7b216f9b",
   "metadata": {},
   "outputs": [
    {
     "data": {
      "image/png": "[encoded data removed]",
      "text/plain": [
       "<Figure size 1500x400 with 3 Axes>"
      ]
     },
     "metadata": {},
     "output_type": "display_data"
    }
   ],
   "source": [
    "\n",
    "training_traj = np.load(loading_dir+model_name+\"_training_loss.npz\")\n",
    "\n",
    "total_loss = training_traj['training_total_loss']\n",
    "rec_loss = training_traj['training_rec_loss']\n",
    "kl_loss = training_traj['training_kl_loss']\n",
    "\n",
    "\n",
    "plt.figure(figsize=(15, 4))\n",
    "plt.subplot(1, 3, 1)\n",
    "plt.title(\"Total Loss\", fontsize=12)\n",
    "plt.plot(range(num_epochs), total_loss)\n",
    "plt.tick_params(axis='both', which='major', labelsize=14)\n",
    "plt.subplot(1, 3, 2)\n",
    "plt.title(\"Reconstruction Loss\", fontsize=12)\n",
    "plt.plot(range(num_epochs), rec_loss)\n",
    "plt.tick_params(axis='both', which='major', labelsize=14)\n",
    "plt.xlabel(\"Epochs of training\", fontsize=12)\n",
    "plt.subplot(1, 3, 3)\n",
    "plt.title(\"KL Loss\", fontsize=12)\n",
    "plt.plot(range(num_epochs), kl_loss)\n",
    "plt.tick_params(axis='both', which='major', labelsize=14)"
   ]
  },
  {
   "cell_type": "markdown",
   "id": "4af3951a",
   "metadata": {},
   "source": [
    "### Part 6. Performance evaluation on the testing set\n",
    "\n",
    "Now that we have trained a model, we will use it to identify anomalies in the testing set and evaluate how accurate we are. First, we need to calculate the threshold for anomaly detection based on reconstruction error of the training set:"
   ]
  },
  {
   "cell_type": "code",
   "execution_count": 7,
   "id": "3d6284fe",
   "metadata": {},
   "outputs": [
    {
     "name": "stdout",
     "output_type": "stream",
     "text": [
      "using: cpu\n"
     ]
    }
   ],
   "source": [
    "# finding a threshold for anomaly detection \n",
    "\n",
    "## Please note that this step might take a while. A smaller num_sample will\n",
    "### speed up this step with a trade-off of a less accurate estimate of the threshold.\n",
    "#### for the sake of time, we have saved the results of this step and will load it here:\n",
    "\n",
    "scale = 5 # how many std from mean should we use to set up the threshold\n",
    "\n",
    "train_anomaly_score = find_score(model, x_train, metric, num_sample=50)\n",
    "np.savez_compressed(loading_dir+model_name+\"_train_scores\", scores=train_anomaly_score)\n",
    "\n",
    "train_anomaly_score = np.load(loading_dir+model_name+\"_train_scores.npz\")['scores']\n",
    "threshold = np.mean(train_anomaly_score) + scale * np.std(train_anomaly_score)"
   ]
  },
  {
   "cell_type": "code",
   "execution_count": 8,
   "id": "62619074",
   "metadata": {},
   "outputs": [
    {
     "name": "stdout",
     "output_type": "stream",
     "text": [
      "using: cpu\n"
     ]
    }
   ],
   "source": [
    "# Once we find the threshold, we can use it to identify anomalies in the test set\n",
    "\n",
    "model_preds = np.zeros(np.shape(x_test)[0], dtype=int)\n",
    "\n",
    "# calculating the anomaly scores on the test set (again, for the sake of time, we will load this)\n",
    "test_anomaly_score = find_score(model, x_test, metric, num_sample=50)\n",
    "np.savez_compressed(loading_dir+model_name+\"_test_scores.npz\", scores=test_anomaly_score)\n",
    "\n",
    "test_anomaly_score = np.load(loading_dir+model_name+\"_test_scores.npz\")['scores']\n",
    "model_preds[test_anomaly_score > threshold] = int(1)"
   ]
  },
  {
   "cell_type": "markdown",
   "id": "7e4a0c45",
   "metadata": {},
   "source": [
    "Graph below, shows the histogram of the anomaly scores for the nominal and anomalous data samples in the testing set. We can see that for the nominal data, the score is generally lower and less variant, while it is much more variant and generally higher for the anomalous data samples. "
   ]
  },
  {
   "cell_type": "code",
   "execution_count": 9,
   "id": "a4c3dd68",
   "metadata": {},
   "outputs": [
    {
     "data": {
      "image/png": "[encoded data removed]",
      "text/plain": [
       "<Figure size 800x600 with 1 Axes>"
      ]
     },
     "metadata": {},
     "output_type": "display_data"
    }
   ],
   "source": [
    "ind_nominal = np.where(y_test==0)[0]\n",
    "ind_anomaly = np.where(y_test==1)[0]\n",
    "\n",
    "plt.figure(figsize=(8, 6))\n",
    "plt.hist(test_anomaly_score[ind_nominal], bins=50, alpha=0.5, color='Green', label='Nominal')\n",
    "plt.hist(test_anomaly_score[ind_anomaly], bins=50, alpha=0.8, color='Orange', label='Anomalous')\n",
    "plt.vlines(threshold, 0, 300, color='blue', linestyle='dashed', alpha=0.5, label='Threshold')\n",
    "plt.ylim(0, 260)\n",
    "plt.xlabel(\"Anomaly Score\", fontsize=14)\n",
    "plt.legend(fontsize=14)\n",
    "plt.tick_params(axis='both', which='major', labelsize=14)"
   ]
  },
  {
   "cell_type": "markdown",
   "id": "6175ea66",
   "metadata": {},
   "source": [
    "Below numbers are the precision, recall and F1-score of the performance on the testing set. They are defined as follow,\n",
    "\n",
    "\n",
    "$$ \\text{precision} = \\frac{TP}{TP + FP}$$\n",
    "\n",
    "$$ \\text{recall} = \\frac{TP}{TP + FN}$$\n",
    "\n",
    "where $TP$ is true positive: anomalies that are correctly identified, $FP$ is false positive (or false alarms):\n",
    "anomalies that are incorrectly identified, and $FN$ is false negative, or anomalies that are missed and classified as nominal by mistake.\n",
    "\n",
    "F1-score is the harmonic mean of the two above metrics and it is easier to choose, because one can makes the decision based on only one metric:\n",
    "\n",
    "$$ \\text{F1-score} = 2 \\times \\frac{\\text{precision} \\times \\text{recall}}{\\text{precision} + \\text{recall}}$$\n"
   ]
  },
  {
   "cell_type": "code",
   "execution_count": 10,
   "id": "53f9b9f8",
   "metadata": {},
   "outputs": [
    {
     "name": "stdout",
     "output_type": "stream",
     "text": [
      "Precision = 1.64%, recall = 2.63% and F1-score = 2.02%\n"
     ]
    }
   ],
   "source": [
    "from sklearn.metrics import precision_recall_fscore_support, confusion_matrix\n",
    "info = precision_recall_fscore_support(y_test, model_preds, pos_label=1)\n",
    "print(\"Precision = {}%, recall = {}% and F1-score = {}%\".format(np.round(info[0][1]*100, 2),\n",
    "                                                                np.round(info[1][1]*100, 2),\n",
    "                                                                np.round(info[2][1]*100, 2)))"
   ]
  },
  {
   "cell_type": "markdown",
   "id": "9dc344bd",
   "metadata": {},
   "source": [
    "Below, we also visualize the confusion matrix that shows the correct and wrong classifications for each class:"
   ]
  },
  {
   "cell_type": "code",
   "execution_count": 11,
   "id": "9a03c958",
   "metadata": {},
   "outputs": [
    {
     "data": {
      "image/png": "[encoded data removed]",
      "text/plain": [
       "<Figure size 500x500 with 1 Axes>"
      ]
     },
     "metadata": {},
     "output_type": "display_data"
    }
   ],
   "source": [
    "import seaborn as sns\n",
    "\n",
    "cm = confusion_matrix(y_test, model_preds)\n",
    "\n",
    "\n",
    "FONT = 14\n",
    "classes = ['Nominal', 'Anomaly']\n",
    "#plt.figure(figsize=(8, 8))\n",
    "cmap = sns.cubehelix_palette(light=1, as_cmap=True)\n",
    "fig, ax1 = plt.subplots(1, figsize=(5, 5))\n",
    "\n",
    "im = ax1.imshow(cm, cmap=cmap)\n",
    "ax1.set_title(\"Confusion Matrix\", fontsize=FONT)\n",
    "ax1.set_xticks(np.arange(len(classes)))\n",
    "ax1.set_xticklabels(\"\")\n",
    "ax1.set_yticks(np.arange(len(classes)))\n",
    "ax1.set_xticklabels(classes, rotation=0)\n",
    "ax1.set_ylim(len(classes)-0.5, -0.5)\n",
    "ax1.set_yticklabels(classes)\n",
    "for i in range(len(classes)):\n",
    "    for j in range(len(classes)):\n",
    "        if cm[j, i] > 1000:\n",
    "            cc = 'white'\n",
    "        else:\n",
    "            cc = 'black'\n",
    "        text = ax1.text(i, j, cm[j, i],\n",
    "                       ha=\"center\", va=\"center\", color=cc, fontsize=FONT)\n",
    "ax1.set_ylabel(\"Actual Class\", fontsize=FONT)\n",
    "ax1.set_xlabel(\"Predicted Class\", fontsize=FONT)\n",
    "ax1.tick_params(axis='both', which='major', labelsize=FONT)"
   ]
  },
  {
   "cell_type": "markdown",
   "id": "35a5a421",
   "metadata": {},
   "source": [
    "### Part 7. Structure of the data in the latent feature space\n",
    "\n",
    "In this part, we use t-Stochastic Neighbour Embedding (t-SNE) to visualize the 32-dimensional latent feature space in 2D and color code each data sample by the class it belongs to in order to better understand the structure of the learned feature space. "
   ]
  },
  {
   "cell_type": "code",
   "execution_count": 12,
   "id": "baf74ade",
   "metadata": {},
   "outputs": [],
   "source": [
    "#from sklearn.manifold import TSNE\n",
    "#model.eval()\n",
    "#\n",
    "## obtaining latent variables\n",
    "#z_test = model.encoder(torch.from_numpy(x_test))[0].detach().numpy()\n",
    "#\n",
    "## using t-SNE to map latnet variables to 2D\n",
    "#tsne_test = TSNE(n_components=2, perplexity=50, init='pca', random_state=33).fit_transform(z_test)"
   ]
  },
  {
   "cell_type": "code",
   "execution_count": 13,
   "id": "af172bb9",
   "metadata": {},
   "outputs": [],
   "source": [
    "#colors = ['Green', 'Orange']\n",
    "#labels = ['Nominal', 'Anomaly']\n",
    "#plt.figure(figsize=(14, 6))\n",
    "#plt.subplot(1, 2, 1)\n",
    "#plt.title(\"Color-coded based on true labels\", fontsize=14)\n",
    "#for i in range(2):\n",
    "#    indices = np.where(y_test==i)[0]\n",
    "#    plt.scatter(tsne_test[indices, 0], tsne_test[indices, 1], label=labels[i], c=colors[i], alpha=0.5)\n",
    "#plt.legend(fontsize=12)\n",
    "#plt.tick_params(axis='both', which='major', labelsize=14)\n",
    "#plt.tick_params(axis='both', which='major', labelsize=14)\n",
    "#plt.subplot(1, 2, 2)\n",
    "#plt.title(\"Color-coded based on model prediction\", fontsize=14)\n",
    "#for i in range(2):\n",
    "#    indices = np.where(model_preds==i)[0]\n",
    "#    plt.scatter(tsne_test[indices, 0], tsne_test[indices, 1], label=labels[i], c=colors[i], alpha=0.5)\n",
    "#plt.tick_params(axis='both', which='major', labelsize=14)\n"
   ]
  }
 ],
 "metadata": {
  "kernelspec": {
   "display_name": "cvae",
   "language": "python",
   "name": "python3"
  },
  "language_info": {
   "codemirror_mode": {
    "name": "ipython",
    "version": 3
   },
   "file_extension": ".py",
   "mimetype": "text/x-python",
   "name": "python",
   "nbconvert_exporter": "python",
   "pygments_lexer": "ipython3",
   "version": "3.9.18"
  }
 },
 "nbformat": 4,
 "nbformat_minor": 5
}
