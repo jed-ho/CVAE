{
 "cells": [
  {
   "cell_type": "markdown",
   "id": "160e0d6c",
   "metadata": {},
   "source": [
    "# Demonstration of anomaly detection with CVAE using DASHlink data\n",
    "\n",
    "**Author: Milad Memarzadeh (milad.memarzadeh@nasa.gov)**\n"
   ]
  },
  {
   "cell_type": "markdown",
   "id": "831f2c0d",
   "metadata": {},
   "source": [
    "# Import Libraries"
   ]
  },
  {
   "cell_type": "code",
   "execution_count": 70,
   "id": "d3a6137f",
   "metadata": {},
   "outputs": [
    {
     "name": "stdout",
     "output_type": "stream",
     "text": [
      "Using device: cpu\n"
     ]
    }
   ],
   "source": [
    "import os\n",
    "import numpy as np\n",
    "import pandas as pd\n",
    "import matplotlib.pyplot as plt\n",
    "\n",
    "import seaborn as sns\n",
    "import torch\n",
    "from torch.utils.data import Dataset, DataLoader\n",
    "from torch import nn, optim\n",
    "import torch.nn.functional as F\n",
    "\n",
    "from sklearn.preprocessing import MinMaxScaler\n",
    "from sklearn.model_selection import train_test_split\n",
    "from sklearn.metrics import roc_auc_score, classification_report, confusion_matrix, precision_recall_fscore_support, roc_curve, precision_recall_curve, average_precision_score\n",
    "from sklearn.utils import shuffle\n",
    "\n",
    "# Set device\n",
    "device = torch.device(\"cuda\" if torch.cuda.is_available() else \"cpu\")\n",
    "print(\"Using device:\", device)\n"
   ]
  },
  {
   "cell_type": "markdown",
   "id": "8b697530",
   "metadata": {},
   "source": [
    "# Load and preprocess data"
   ]
  },
  {
   "cell_type": "code",
   "execution_count": 71,
   "id": "6cb4fb32",
   "metadata": {},
   "outputs": [
    {
     "name": "stdout",
     "output_type": "stream",
     "text": [
      "Data shape: (142100, 3)\n"
     ]
    }
   ],
   "source": [
    "# Define the path to the dataset\n",
    "data_dir = 'C:/Users/jed95/Documents/GitHub/anomaly_detection/dataset/yahoo_s5/A2Benchmark'  # Adjust the path as necessary\n",
    "\n",
    "# Get the list of all CSV files in the directory\n",
    "file_list = [os.path.join(data_dir, f) for f in os.listdir(data_dir) if f.endswith('.csv')]\n",
    "\n",
    "# Load all files into a single DataFrame\n",
    "df_list = []\n",
    "for file in file_list:\n",
    "    df = pd.read_csv(file)\n",
    "    df_list.append(df)\n",
    "\n",
    "data = pd.concat(df_list, ignore_index=True)\n",
    "print(\"Data shape:\", data.shape)\n"
   ]
  },
  {
   "cell_type": "code",
   "execution_count": 72,
   "id": "9599316a",
   "metadata": {},
   "outputs": [
    {
     "name": "stdout",
     "output_type": "stream",
     "text": [
      "Missing values: timestamp     0\n",
      "value         0\n",
      "is_anomaly    0\n",
      "dtype: int64\n"
     ]
    }
   ],
   "source": [
    "# Check for missing values\n",
    "print(\"Missing values:\", data.isnull().sum())\n",
    "\n",
    "# For simplicity, drop missing values (if any)\n",
    "data.dropna(inplace=True)\n"
   ]
  },
  {
   "cell_type": "code",
   "execution_count": 73,
   "id": "4345488d",
   "metadata": {},
   "outputs": [],
   "source": [
    "values = data[\"value\"].values.reshape(-1, 1)\n",
    "scaler = MinMaxScaler()\n",
    "values_scaled = scaler.fit_transform(values)"
   ]
  },
  {
   "cell_type": "markdown",
   "id": "3f665b01",
   "metadata": {},
   "source": [
    "# Create Sequences"
   ]
  },
  {
   "cell_type": "code",
   "execution_count": 74,
   "id": "7b216f9b",
   "metadata": {},
   "outputs": [
    {
     "name": "stdout",
     "output_type": "stream",
     "text": [
      "Sequences shape: (142070, 30, 1)\n"
     ]
    }
   ],
   "source": [
    "window_size = 30\n",
    "\n",
    "def create_windows(data, window_size):\n",
    "    windows = []\n",
    "    for i in range(len(data) - window_size):\n",
    "        window = data[i : i + window_size]\n",
    "        windows.append(window)\n",
    "    return np.array(windows)\n",
    "\n",
    "\n",
    "windows = create_windows(values_scaled, window_size)\n",
    "print(\"Sequences shape:\", windows.shape)\n",
    "\n",
    "\n"
   ]
  },
  {
   "cell_type": "markdown",
   "id": "7e4a0c45",
   "metadata": {},
   "source": [
    "# Split data into labeled and unlabeled sets"
   ]
  },
  {
   "cell_type": "code",
   "execution_count": 59,
   "id": "5cb09988",
   "metadata": {},
   "outputs": [
    {
     "name": "stdout",
     "output_type": "stream",
     "text": [
      "Train data shape: (72465, 10, 1)\n",
      "Test data shape: (69625, 10, 1)\n"
     ]
    }
   ],
   "source": [
    "train_ratio = 0.51\n",
    "train_size = int(len(windows) * train_ratio)\n",
    "train_data = windows[:train_size]\n",
    "test_data = windows[train_size:]\n",
    "print(\"Train data shape:\", train_data.shape)\n",
    "print(\"Test data shape:\", test_data.shape)"
   ]
  },
  {
   "cell_type": "code",
   "execution_count": 60,
   "id": "28af8376",
   "metadata": {},
   "outputs": [],
   "source": [
    "# TODO Shuffle data\n",
    "\n",
    "#X_train, y_train = shuffle(X_train, y_train, random_state=42)\n",
    "#X_test, y_test = shuffle(X_test, y_test, random_state=42)\n"
   ]
  },
  {
   "cell_type": "markdown",
   "id": "4db1beef",
   "metadata": {},
   "source": [
    "# Convert Data to Tensors"
   ]
  },
  {
   "cell_type": "markdown",
   "id": "d50dc79a",
   "metadata": {},
   "source": [
    "# Create Data Loaders for Labeled and Unlabeled Data"
   ]
  },
  {
   "cell_type": "code",
   "execution_count": 61,
   "id": "af172bb9",
   "metadata": {},
   "outputs": [],
   "source": [
    "class TimeSeriesDataset(Dataset):\n",
    "    def __init__(self, data):\n",
    "        self.data = torch.from_numpy(data).float()\n",
    "\n",
    "    def __len__(self):\n",
    "        return len(self.data)\n",
    "\n",
    "    def __getitem__(self, idx):\n",
    "        return self.data[idx].transpose(1, 0)"
   ]
  },
  {
   "cell_type": "code",
   "execution_count": 62,
   "id": "c21a408d",
   "metadata": {},
   "outputs": [],
   "source": [
    "train_dataset = TimeSeriesDataset(train_data)\n",
    "test_dataset = TimeSeriesDataset(test_data)\n",
    "batch_size = 64\n",
    "train_loader = DataLoader(train_dataset, batch_size=batch_size, shuffle=True)\n",
    "test_loader = DataLoader(test_dataset, batch_size=1, shuffle=False)"
   ]
  },
  {
   "cell_type": "markdown",
   "id": "b73e288d",
   "metadata": {},
   "source": [
    "# Instantiate and Train the Conditional VAE"
   ]
  },
  {
   "cell_type": "code",
   "execution_count": 63,
   "id": "0f3792ce",
   "metadata": {},
   "outputs": [],
   "source": [
    "from source.utilsVAEs5 import *\n",
    "\n",
    "device = torch.device(\"cuda\" if torch.cuda.is_available() else \"cpu\")\n",
    "latent_dim = 10\n",
    "num_param = 1\n",
    "scale_flag = 0\n",
    "model = VAE(latent_dim, num_param, window_size, scale_flag).to(device)"
   ]
  },
  {
   "cell_type": "code",
   "execution_count": 64,
   "id": "aec11374",
   "metadata": {},
   "outputs": [],
   "source": [
    "# 3. Define the training function\n",
    "def likelihood_loss(x_recon, x, metric=\"MSE\"):\n",
    "    if metric == \"MSE\":\n",
    "        loss = nn.MSELoss(reduction=\"none\")\n",
    "    elif metric == \"BCE\":\n",
    "        loss = nn.BCELoss(reduction=\"none\")\n",
    "    else:\n",
    "        raise ValueError(\"Invalid metric. Use 'MSE' or 'BCE'.\")\n",
    "    return loss(x_recon, x).mean(dim=[1, 2])\n",
    "\n",
    "\n",
    "def train_model(model, optimizer, train_loader, num_epochs=10):\n",
    "    model.train()\n",
    "    for epoch in range(num_epochs):\n",
    "        total_loss = 0\n",
    "        rec_loss_total = 0\n",
    "        kl_loss_total = 0\n",
    "\n",
    "        for X_batch in train_loader:\n",
    "            X_batch = X_batch.to(device)\n",
    "\n",
    "            optimizer.zero_grad()\n",
    "            x_rec = model(X_batch)\n",
    "\n",
    "            likelihood = likelihood_loss(x_rec, X_batch, metric=\"MSE\")\n",
    "            rec_loss = torch.mean(likelihood)\n",
    "            kl_div = torch.mean(model.kl_div)\n",
    "            loss = rec_loss + kl_div * 0.1\n",
    "\n",
    "            loss.backward()\n",
    "            optimizer.step()\n",
    "\n",
    "            total_loss += loss.item()\n",
    "            rec_loss_total += rec_loss.item()\n",
    "            kl_loss_total += kl_div.item()\n",
    "\n",
    "        print(\n",
    "            f\"Epoch [{epoch+1}/{num_epochs}], \"\n",
    "            f\"Total Loss: {total_loss:.4f}, \"\n",
    "            f\"Rec Loss: {rec_loss_total:.4f}, \"\n",
    "            f\"KL Div: {kl_loss_total:.4f}\"\n",
    "        )\n",
    "    return model"
   ]
  },
  {
   "cell_type": "code",
   "execution_count": 65,
   "id": "5f0a92ec",
   "metadata": {},
   "outputs": [
    {
     "name": "stdout",
     "output_type": "stream",
     "text": [
      "Epoch [1/10], Total Loss: 3.5240, Rec Loss: 3.5131, KL Div: 0.1090\n",
      "Epoch [2/10], Total Loss: 1.8502, Rec Loss: 1.8501, KL Div: 0.0017\n",
      "Epoch [3/10], Total Loss: 1.8428, Rec Loss: 1.8426, KL Div: 0.0014\n",
      "Epoch [4/10], Total Loss: 1.8380, Rec Loss: 1.8379, KL Div: 0.0009\n",
      "Epoch [5/10], Total Loss: 1.8270, Rec Loss: 1.8269, KL Div: 0.0004\n",
      "Epoch [6/10], Total Loss: 1.8226, Rec Loss: 1.8225, KL Div: 0.0008\n",
      "Epoch [7/10], Total Loss: 1.8165, Rec Loss: 1.8164, KL Div: 0.0009\n",
      "Epoch [8/10], Total Loss: 1.8159, Rec Loss: 1.8159, KL Div: 0.0008\n",
      "Epoch [9/10], Total Loss: 1.8139, Rec Loss: 1.8138, KL Div: 0.0006\n",
      "Epoch [10/10], Total Loss: 1.8095, Rec Loss: 1.8095, KL Div: 0.0005\n"
     ]
    }
   ],
   "source": [
    "# 4. Train the model\n",
    "learning_rate = 1e-3\n",
    "optimizer = optim.Adam(model.parameters(), lr=learning_rate)\n",
    "num_epochs = 10\n",
    "model = train_model(model, optimizer, train_loader, num_epochs=num_epochs)"
   ]
  },
  {
   "cell_type": "code",
   "execution_count": 66,
   "id": "0f588166",
   "metadata": {},
   "outputs": [
    {
     "name": "stdout",
     "output_type": "stream",
     "text": [
      "Anomaly Threshold: 0.0548\n"
     ]
    }
   ],
   "source": [
    "model.eval()\n",
    "reconstruction_errors = []\n",
    "all_true_labels = []\n",
    "\n",
    "with torch.no_grad():\n",
    "    for X_batch in test_loader:\n",
    "        X_batch = X_batch.to(device)\n",
    "        x_rec = model(X_batch)\n",
    "        error = likelihood_loss(x_rec, X_batch, metric=\"MSE\").cpu().numpy()\n",
    "        reconstruction_errors.append(error)\n",
    "\n",
    "        if \"is_anomaly\" in data.columns:\n",
    "            idx = len(reconstruction_errors) - 1\n",
    "            true_label = data[\"is_anomaly\"].values[train_size + idx + window_size]\n",
    "            all_true_labels.append(true_label)\n",
    "\n",
    "reconstruction_errors = np.concatenate(reconstruction_errors)\n",
    "\n",
    "# Set anomaly threshold\n",
    "k = 2\n",
    "threshold = reconstruction_errors.mean() + k * reconstruction_errors.std()\n",
    "print(f\"Anomaly Threshold: {threshold:.4f}\")"
   ]
  },
  {
   "cell_type": "markdown",
   "id": "e06774dd",
   "metadata": {},
   "source": [
    "# Evaluate the Model and Detect Anomalies"
   ]
  },
  {
   "cell_type": "code",
   "execution_count": 67,
   "id": "ffbfdd0d",
   "metadata": {},
   "outputs": [
    {
     "name": "stdout",
     "output_type": "stream",
     "text": [
      "Precision: 0.0056\n",
      "Recall:    0.0756\n",
      "F1 Score:  0.0104\n",
      "Confusion Matrix:\n",
      "[[66369  3031]\n",
      " [  208    17]]\n",
      "Precision = 0.56%, recall = 7.56% and F1-score = 1.04%\n"
     ]
    },
    {
     "data": {
      "image/png": "[encoded data removed]",
      "text/plain": [
       "<Figure size 1500x500 with 1 Axes>"
      ]
     },
     "metadata": {},
     "output_type": "display_data"
    }
   ],
   "source": [
    "anomalies = reconstruction_errors > threshold\n",
    "\n",
    "# Evaluate performance\n",
    "if \"is_anomaly\" in data.columns:\n",
    "    from sklearn.metrics import (\n",
    "        precision_score,\n",
    "        recall_score,\n",
    "        f1_score,\n",
    "        confusion_matrix,\n",
    "    )\n",
    "\n",
    "    true_labels = np.array(all_true_labels)\n",
    "    pred_labels = anomalies.astype(int)\n",
    "\n",
    "    precision = precision_score(true_labels, pred_labels)\n",
    "    recall = recall_score(true_labels, pred_labels)\n",
    "    f1 = f1_score(true_labels, pred_labels)\n",
    "    cm = confusion_matrix(true_labels, pred_labels)\n",
    "\n",
    "    print(f\"Precision: {precision:.4f}\")\n",
    "    print(f\"Recall:    {recall:.4f}\")\n",
    "    print(f\"F1 Score:  {f1:.4f}\")\n",
    "    print(\"Confusion Matrix:\")\n",
    "    print(cm)\n",
    "info = precision_recall_fscore_support(true_labels, pred_labels)\n",
    "print(\"Precision = {}%, recall = {}% and F1-score = {}%\".format(np.round(info[0][1]*100, 2),\n",
    "                                                                np.round(info[1][1]*100, 2),\n",
    "                                                                np.round(info[2][1]*100, 2)))\n",
    "# Visualize results\n",
    "plt.figure(figsize=(15, 5))\n",
    "plt.plot(reconstruction_errors, label=\"Reconstruction Error\")\n",
    "plt.axhline(y=threshold, color=\"r\", linestyle=\"--\", label=\"Threshold\")\n",
    "plt.legend()\n",
    "plt.show()\n",
    "\n",
    "\n"
   ]
  },
  {
   "cell_type": "code",
   "execution_count": 68,
   "id": "fa00e8de",
   "metadata": {},
   "outputs": [
    {
     "data": {
      "image/png": "[encoded data removed]",
      "text/plain": [
       "<Figure size 1500x500 with 1 Axes>"
      ]
     },
     "metadata": {},
     "output_type": "display_data"
    }
   ],
   "source": [
    "test_values = values_scaled[train_size + window_size :]\n",
    "\n",
    "plt.figure(figsize=(15, 5))\n",
    "plt.plot(test_values, label=\"Scaled Value\")\n",
    "anomaly_indices = np.where(anomalies)[0]\n",
    "plt.scatter(anomaly_indices, test_values[anomaly_indices], color=\"r\", label=\"Anomalies\")\n",
    "plt.legend()\n",
    "plt.show()"
   ]
  },
  {
   "cell_type": "code",
   "execution_count": 69,
   "id": "2eed4ad1",
   "metadata": {},
   "outputs": [
    {
     "ename": "ValueError",
     "evalue": "too many values to unpack (expected 2)",
     "output_type": "error",
     "traceback": [
      "\u001b[1;31m---------------------------------------------------------------------------\u001b[0m",
      "\u001b[1;31mValueError\u001b[0m                                Traceback (most recent call last)",
      "Cell \u001b[1;32mIn[69], line 31\u001b[0m\n\u001b[0;32m     28\u001b[0m     \u001b[38;5;28;01mreturn\u001b[39;00m np\u001b[38;5;241m.\u001b[39marray(anomaly_scores), np\u001b[38;5;241m.\u001b[39marray(true_labels), np\u001b[38;5;241m.\u001b[39marray(predictions)\n\u001b[0;32m     30\u001b[0m \u001b[38;5;66;03m# Compute anomaly scores\u001b[39;00m\n\u001b[1;32m---> 31\u001b[0m train_anomaly_scores, train_true_labels, train_predictions \u001b[38;5;241m=\u001b[39m \u001b[43mcompute_anomaly_scores\u001b[49m\u001b[43m(\u001b[49m\u001b[43mmodel\u001b[49m\u001b[43m,\u001b[49m\u001b[43m \u001b[49m\u001b[43mtrain_loader\u001b[49m\u001b[43m)\u001b[49m\n\u001b[0;32m     34\u001b[0m test_anomaly_scores, test_true_labels, test_predictions \u001b[38;5;241m=\u001b[39m compute_anomaly_scores(model, test_loader)\n\u001b[0;32m     35\u001b[0m \u001b[38;5;66;03m#print(test_anomaly_scores)\u001b[39;00m\n",
      "Cell \u001b[1;32mIn[69], line 8\u001b[0m, in \u001b[0;36mcompute_anomaly_scores\u001b[1;34m(model, data_loader)\u001b[0m\n\u001b[0;32m      5\u001b[0m predictions \u001b[38;5;241m=\u001b[39m []\n\u001b[0;32m      7\u001b[0m \u001b[38;5;28;01mwith\u001b[39;00m torch\u001b[38;5;241m.\u001b[39mno_grad():\n\u001b[1;32m----> 8\u001b[0m     \u001b[38;5;28;01mfor\u001b[39;00m X_batch, y_batch \u001b[38;5;129;01min\u001b[39;00m data_loader:\n\u001b[0;32m      9\u001b[0m         X_batch \u001b[38;5;241m=\u001b[39m X_batch\u001b[38;5;241m.\u001b[39munsqueeze(\u001b[38;5;241m1\u001b[39m)\u001b[38;5;241m.\u001b[39mto(device)\n\u001b[0;32m     10\u001b[0m         y_batch \u001b[38;5;241m=\u001b[39m y_batch\u001b[38;5;241m.\u001b[39mto(device)\n",
      "\u001b[1;31mValueError\u001b[0m: too many values to unpack (expected 2)"
     ]
    }
   ],
   "source": [
    "def compute_anomaly_scores(model, data_loader):\n",
    "    model.eval()\n",
    "    anomaly_scores = []\n",
    "    true_labels = []\n",
    "    predictions = []\n",
    "\n",
    "    with torch.no_grad():\n",
    "        for X_batch, y_batch in data_loader:\n",
    "            X_batch = X_batch.unsqueeze(1).to(device)\n",
    "            y_batch = y_batch.to(device)\n",
    "\n",
    "            x_rec, class_logits = model(X_batch)\n",
    "            y_probs = F.softmax(class_logits, dim=1)\n",
    "\n",
    "            # Reconstruction error\n",
    "            rec_error = torch.mean((X_batch - x_rec) ** 2, dim=[1, 2])\n",
    "\n",
    "            # Classification probability for anomaly class\n",
    "            anomaly_prob = y_probs[:, 1]\n",
    "\n",
    "            # Combine scores\n",
    "            anomaly_score = rec_error * anomaly_prob\n",
    "\n",
    "            anomaly_scores.extend(anomaly_score.cpu().numpy())\n",
    "            true_labels.extend(y_batch.cpu().numpy())\n",
    "            predictions.extend(torch.argmax(class_logits, dim=1).cpu().numpy())\n",
    "\n",
    "    return np.array(anomaly_scores), np.array(true_labels), np.array(predictions)\n",
    "\n",
    "# Compute anomaly scores\n",
    "train_anomaly_scores, train_true_labels, train_predictions = compute_anomaly_scores(model, train_loader)\n",
    "\n",
    "\n",
    "test_anomaly_scores, test_true_labels, test_predictions = compute_anomaly_scores(model, test_loader)\n",
    "#print(test_anomaly_scores)\n",
    "info = precision_recall_fscore_support(test_true_labels, test_predictions, pos_label=1)\n",
    "print(\"Precision = {}%, recall = {}% and F1-score = {}%\".format(np.round(info[0][1]*100, 2),\n",
    "                                                                np.round(info[1][1]*100, 2),\n",
    "                                                                np.round(info[2][1]*100, 2)))\n",
    "\n"
   ]
  },
  {
   "cell_type": "code",
   "execution_count": null,
   "id": "7bc0aa7e",
   "metadata": {},
   "outputs": [],
   "source": [
    "# Define the scale factor\n",
    "scale = 2  # You can adjust this value\n",
    "# Calculate the threshold\n",
    "threshold = np.mean(train_anomaly_scores) + scale * np.std(train_anomaly_scores)\n",
    "print(f\"Anomaly Detection Threshold: {threshold}\")\n",
    "# Classify test data based on threshold\n",
    "threshold_predictions = (test_anomaly_scores > threshold).astype(int)\n",
    "\n",
    "# Evaluate threshold-based predictions\n",
    "print(\"Threshold-based Classification Report:\")\n",
    "print(classification_report(test_true_labels, threshold_predictions, target_names=['Normal', 'Anomaly']))\n",
    "\n",
    "# Confusion matrix\n",
    "cm_threshold = confusion_matrix(test_true_labels, threshold_predictions)\n",
    "print(\"Threshold-based Confusion Matrix:\")\n",
    "print(cm_threshold)"
   ]
  },
  {
   "cell_type": "code",
   "execution_count": null,
   "id": "d281fb52",
   "metadata": {},
   "outputs": [],
   "source": [
    "plt.figure(figsize=(10, 6))\n",
    "plt.hist(train_anomaly_scores[train_true_labels == 0], bins=50, alpha=0.6, label='Normal')\n",
    "plt.hist(train_anomaly_scores[train_true_labels == 1], bins=50, alpha=0.6, label='Anomaly')\n",
    "plt.title('Anomaly Score Distribution')\n",
    "plt.xlabel('Anomaly Score')\n",
    "plt.ylabel('Frequency')\n",
    "plt.legend()\n",
    "plt.show()\n"
   ]
  },
  {
   "cell_type": "code",
   "execution_count": null,
   "id": "a01f7b24",
   "metadata": {},
   "outputs": [],
   "source": [
    "def plot_anomaly_scores_scatter(anomaly_scores, true_labels, threshold):\n",
    "    plt.figure(figsize=(10, 6))\n",
    "    plt.scatter(range(len(anomaly_scores)), anomaly_scores, c=true_labels, cmap='coolwarm', label='Data Point')\n",
    "    plt.axhline(threshold, color='red', linestyle='--', label='Threshold')\n",
    "    plt.title('Anomaly Scores Scatter Plot')\n",
    "    plt.xlabel('Sample Index')\n",
    "    plt.ylabel('Anomaly Score')\n",
    "    plt.legend()\n",
    "    plt.show()\n",
    "\n",
    "# Call the function\n",
    "plot_anomaly_scores_scatter(test_anomaly_scores, test_true_labels, threshold)\n"
   ]
  },
  {
   "cell_type": "code",
   "execution_count": null,
   "id": "ad4583f3",
   "metadata": {},
   "outputs": [],
   "source": [
    "\n",
    "\n",
    "# Set plot style\n",
    "sns.set(style='whitegrid')\n",
    "def plot_anomaly_score_histogram(anomaly_scores, true_labels, threshold):\n",
    "    plt.figure(figsize=(10, 6))\n",
    "    sns.histplot(anomaly_scores[true_labels == 0], bins=50, color='green', label='Normal', kde=True, stat='density')\n",
    "    sns.histplot(anomaly_scores[true_labels == 1], bins=50, color='red', label='Anomaly', kde=True, stat='density')\n",
    "    plt.axvline(threshold, color='blue', linestyle='--', label='Threshold')\n",
    "    plt.title('Histogram of Anomaly Scores')\n",
    "    plt.xlabel('Anomaly Score')\n",
    "    plt.ylabel('Density')\n",
    "    plt.legend()\n",
    "    plt.show()\n",
    "\n",
    "# Call the function\n",
    "plot_anomaly_score_histogram(test_anomaly_scores, test_true_labels, threshold)\n"
   ]
  },
  {
   "cell_type": "code",
   "execution_count": null,
   "id": "1997ea62",
   "metadata": {},
   "outputs": [],
   "source": [
    "\n",
    "\n",
    "# Compute AUC-ROC\n",
    "auc_score = roc_auc_score(test_true_labels, test_anomaly_scores)\n",
    "print(f\"AUC-ROC Score: {auc_score:.4f}\")\n",
    "\n",
    "# Compute Precision-Recall Curve\n",
    "precision, recall, thresholds = precision_recall_curve(test_true_labels, test_anomaly_scores)\n",
    "ap_score = average_precision_score(test_true_labels, test_anomaly_scores)\n",
    "print(f\"Average Precision Score: {ap_score:.4f}\")\n"
   ]
  },
  {
   "cell_type": "code",
   "execution_count": null,
   "id": "3e176694",
   "metadata": {},
   "outputs": [],
   "source": [
    "fpr, tpr, thresholds = roc_curve(test_true_labels, test_anomaly_scores)\n",
    "plt.figure(figsize=(8, 6))\n",
    "plt.plot(fpr, tpr, label=f'AUC = {auc_score:.4f}')\n",
    "plt.plot([0, 1], [0, 1], 'k--')\n",
    "plt.title('ROC Curve')\n",
    "plt.xlabel('False Positive Rate')\n",
    "plt.ylabel('True Positive Rate')\n",
    "plt.legend()\n",
    "plt.show()\n"
   ]
  },
  {
   "cell_type": "code",
   "execution_count": null,
   "id": "3706a868",
   "metadata": {},
   "outputs": [],
   "source": [
    "\n",
    "\n",
    "# Classification report\n",
    "print(\"Classification Report:\")\n",
    "print(classification_report(test_true_labels, test_predictions, target_names=['Normal', 'Anomaly']))\n",
    "\n",
    "# Confusion matrix\n",
    "cm = confusion_matrix(test_true_labels, test_predictions)\n",
    "print(\"Confusion Matrix:\")\n",
    "print(cm)\n",
    "\n",
    "# Compute AUC-ROC\n",
    "auc_score = roc_auc_score(test_true_labels, test_anomaly_scores)\n",
    "print(f\"AUC-ROC Score: {auc_score:.4f}\")\n"
   ]
  },
  {
   "cell_type": "code",
   "execution_count": null,
   "id": "9979b673",
   "metadata": {},
   "outputs": [],
   "source": [
    "\n",
    "\n",
    "plt.figure(figsize=(10, 6))\n",
    "plt.hist(test_anomaly_scores[test_true_labels == 0], bins=50, alpha=0.6, label='Normal')\n",
    "plt.hist(test_anomaly_scores[test_true_labels == 1], bins=50, alpha=0.6, label='Anomaly')\n",
    "plt.axvline(threshold, color='red', linestyle='--', label='Threshold')\n",
    "plt.title('Anomaly Score Distribution with Threshold')\n",
    "plt.xlabel('Anomaly Score')\n",
    "plt.ylabel('Frequency')\n",
    "plt.legend()\n",
    "plt.show()\n"
   ]
  }
 ],
 "metadata": {
  "kernelspec": {
   "display_name": "cvae",
   "language": "python",
   "name": "python3"
  },
  "language_info": {
   "codemirror_mode": {
    "name": "ipython",
    "version": 3
   },
   "file_extension": ".py",
   "mimetype": "text/x-python",
   "name": "python",
   "nbconvert_exporter": "python",
   "pygments_lexer": "ipython3",
   "version": "3.9.18"
  }
 },
 "nbformat": 4,
 "nbformat_minor": 5
}
