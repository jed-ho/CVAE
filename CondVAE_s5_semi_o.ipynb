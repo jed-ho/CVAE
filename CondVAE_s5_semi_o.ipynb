{
 "cells": [
  {
   "cell_type": "markdown",
   "id": "160e0d6c",
   "metadata": {},
   "source": [
    "# Demonstration of anomaly detection with CVAE using DASHlink data\n",
    "\n",
    "**Author: Milad Memarzadeh (milad.memarzadeh@nasa.gov)**\n"
   ]
  },
  {
   "cell_type": "markdown",
   "id": "831f2c0d",
   "metadata": {},
   "source": [
    "# Import Libraries"
   ]
  },
  {
   "cell_type": "code",
   "execution_count": 2,
   "id": "d3a6137f",
   "metadata": {},
   "outputs": [
    {
     "name": "stdout",
     "output_type": "stream",
     "text": [
      "Using device: cpu\n"
     ]
    }
   ],
   "source": [
    "import os\n",
    "import numpy as np\n",
    "import pandas as pd\n",
    "import matplotlib.pyplot as plt\n",
    "\n",
    "import torch\n",
    "from torch.utils.data import Dataset, DataLoader\n",
    "from torch import nn, optim\n",
    "import torch.nn.functional as F\n",
    "\n",
    "from sklearn.preprocessing import MinMaxScaler\n",
    "from sklearn.model_selection import train_test_split\n",
    "from sklearn.metrics import roc_auc_score, classification_report, confusion_matrix\n",
    "\n",
    "# Set device\n",
    "device = torch.device(\"cuda\" if torch.cuda.is_available() else \"cpu\")\n",
    "print(\"Using device:\", device)\n"
   ]
  },
  {
   "cell_type": "markdown",
   "id": "8b697530",
   "metadata": {},
   "source": [
    "# Load and preprocess data"
   ]
  },
  {
   "cell_type": "code",
   "execution_count": 3,
   "id": "6cb4fb32",
   "metadata": {},
   "outputs": [
    {
     "name": "stdout",
     "output_type": "stream",
     "text": [
      "Data shape: (142100, 3)\n"
     ]
    }
   ],
   "source": [
    "# Define the path to the dataset\n",
    "data_dir = 'C:/Users/jed95/Documents/GitHub/anomaly_detection/dataset/yahoo_s5/A2Benchmark'  # Adjust the path as necessary\n",
    "\n",
    "# Get the list of all CSV files in the directory\n",
    "file_list = [os.path.join(data_dir, f) for f in os.listdir(data_dir) if f.endswith('.csv')]\n",
    "\n",
    "# Load all files into a single DataFrame\n",
    "df_list = []\n",
    "for file in file_list:\n",
    "    df = pd.read_csv(file)\n",
    "    df_list.append(df)\n",
    "\n",
    "data = pd.concat(df_list, ignore_index=True)\n",
    "print(\"Data shape:\", data.shape)\n"
   ]
  },
  {
   "cell_type": "code",
   "execution_count": 4,
   "id": "9599316a",
   "metadata": {},
   "outputs": [
    {
     "name": "stdout",
     "output_type": "stream",
     "text": [
      "Missing values: timestamp     0\n",
      "value         0\n",
      "is_anomaly    0\n",
      "dtype: int64\n"
     ]
    }
   ],
   "source": [
    "# Check for missing values\n",
    "print(\"Missing values:\", data.isnull().sum())\n",
    "\n",
    "# For simplicity, drop missing values (if any)\n",
    "data.dropna(inplace=True)\n"
   ]
  },
  {
   "cell_type": "code",
   "execution_count": 5,
   "id": "4345488d",
   "metadata": {},
   "outputs": [],
   "source": [
    "scaler = MinMaxScaler()\n",
    "data['value'] = scaler.fit_transform(data['value'].values.reshape(-1, 1))\n"
   ]
  },
  {
   "cell_type": "markdown",
   "id": "3f665b01",
   "metadata": {},
   "source": [
    "# Create Sequences"
   ]
  },
  {
   "cell_type": "code",
   "execution_count": 6,
   "id": "7b216f9b",
   "metadata": {},
   "outputs": [
    {
     "name": "stdout",
     "output_type": "stream",
     "text": [
      "Sequences shape: (142091, 10)\n",
      "Sequence labels shape: (142091,)\n"
     ]
    }
   ],
   "source": [
    "def create_sequences(values, labels, sequence_length):\n",
    "    sequences = []\n",
    "    seq_labels = []\n",
    "    for i in range(len(values) - sequence_length + 1):\n",
    "        seq = values[i:i + sequence_length]\n",
    "        label = labels[i + sequence_length - 1]  # Label of the last element in the sequence\n",
    "        sequences.append(seq)\n",
    "        seq_labels.append(label)\n",
    "    return np.array(sequences), np.array(seq_labels)\n",
    "sequence_length = 10  # You can adjust this \n",
    "values = data['value'].values\n",
    "labels = data['is_anomaly'].values  # Assuming 'is_anomaly' is the label column\n",
    "\n",
    "sequences, seq_labels = create_sequences(values, labels, sequence_length)\n",
    "print(\"Sequences shape:\", sequences.shape)\n",
    "print(\"Sequence labels shape:\", seq_labels.shape)\n",
    "\n"
   ]
  },
  {
   "cell_type": "markdown",
   "id": "7e4a0c45",
   "metadata": {},
   "source": [
    "# Split data into labeled and unlabeled sets"
   ]
  },
  {
   "cell_type": "code",
   "execution_count": 7,
   "id": "3d6284fe",
   "metadata": {},
   "outputs": [],
   "source": [
    "anomalous_indices = np.where(seq_labels == 1)[0]\n",
    "normal_indices = np.where(seq_labels == 0)[0]\n"
   ]
  },
  {
   "cell_type": "code",
   "execution_count": 8,
   "id": "62619074",
   "metadata": {},
   "outputs": [],
   "source": [
    "labeled_data = sequences[anomalous_indices]\n",
    "labeled_labels = seq_labels[anomalous_indices]\n"
   ]
  },
  {
   "cell_type": "code",
   "execution_count": 9,
   "id": "a4c3dd68",
   "metadata": {},
   "outputs": [],
   "source": [
    "from sklearn.utils import shuffle\n",
    "\n",
    "# Shuffle normal indices\n",
    "#normal_indices = shuffle(normal_indices, random_state=42)\n",
    "\n",
    "# Take a subset (e.g., 50%)\n",
    "unlabeled_size = int(0.5 * len(normal_indices))\n",
    "unlabeled_indices = normal_indices[:unlabeled_size]\n",
    "\n",
    "unlabeled_data = sequences[unlabeled_indices]\n",
    "unlabeled_labels = seq_labels[unlabeled_indices]  # Should be all zeros\n",
    "\n",
    "# Optional: Combine the rest of the normal data into the unlabeled set\n",
    "unlabeled_data = np.concatenate((unlabeled_data, sequences[normal_indices[unlabeled_size:]]), axis=0)\n",
    "unlabeled_labels = np.concatenate((unlabeled_labels, seq_labels[normal_indices[unlabeled_size:]]), axis=0)\n"
   ]
  },
  {
   "cell_type": "markdown",
   "id": "4db1beef",
   "metadata": {},
   "source": [
    "# Convert Data to Tensors"
   ]
  },
  {
   "cell_type": "code",
   "execution_count": 10,
   "id": "9a03c958",
   "metadata": {},
   "outputs": [],
   "source": [
    "# Convert sequences to tensors\n",
    "labeled_data_tensor = torch.tensor(labeled_data).float()\n",
    "labeled_labels_tensor = torch.tensor(labeled_labels).long()  # Labels should be long integers\n",
    "\n",
    "unlabeled_data_tensor = torch.tensor(unlabeled_data).float()\n",
    "unlabeled_labels_tensor = torch.tensor(unlabeled_labels).long()\n"
   ]
  },
  {
   "cell_type": "code",
   "execution_count": 11,
   "id": "baf74ade",
   "metadata": {},
   "outputs": [],
   "source": [
    "X_train_unlabeled, X_test_unlabeled, y_train_unlabeled, y_test_unlabeled = train_test_split(\n",
    "    unlabeled_data_tensor, unlabeled_labels_tensor, test_size=0.2, random_state=42, stratify=unlabeled_labels_tensor)\n",
    "X_train_anomalous, X_test_anomalous, y_train_anomalous, y_test_anomalous = train_test_split(\n",
    "    labeled_data_tensor, labeled_labels_tensor, test_size=0.5, random_state=42, stratify=labeled_labels_tensor)\n",
    "# For labeled data, since it's small, we can use all of it for training\n",
    "X_train_labeled = labeled_data_tensor\n",
    "y_train_labeled = labeled_labels_tensor\n",
    "# Combine labeled and unlabeled training data\n",
    "X_train = torch.cat([X_train_unlabeled, X_train_anomalous], dim=0)\n",
    "y_train = torch.cat([y_train_unlabeled, y_train_anomalous], dim=0)\n",
    "# Combine labeled and unlabeled test data\n",
    "X_test = torch.cat([X_test_unlabeled, X_test_anomalous], dim=0)\n",
    "y_test = torch.cat([y_test_unlabeled, y_test_anomalous], dim=0)\n"
   ]
  },
  {
   "cell_type": "markdown",
   "id": "d50dc79a",
   "metadata": {},
   "source": [
    "# Create Data Loaders for Labeled and Unlabeled Data"
   ]
  },
  {
   "cell_type": "code",
   "execution_count": 12,
   "id": "af172bb9",
   "metadata": {},
   "outputs": [],
   "source": [
    "class TimeSeriesDataset(Dataset):\n",
    "    def __init__(self, data, labels=None):\n",
    "        self.data = data\n",
    "        self.labels = labels  # Can be None for unlabeled data\n",
    "\n",
    "    def __len__(self):\n",
    "        return len(self.data)\n",
    "\n",
    "    def __getitem__(self, idx):\n",
    "        X = self.data[idx]\n",
    "        if self.labels is not None:\n",
    "            y = self.labels[idx]\n",
    "            return X, y\n",
    "        else:\n",
    "            return X\n"
   ]
  },
  {
   "cell_type": "code",
   "execution_count": 13,
   "id": "c21a408d",
   "metadata": {},
   "outputs": [],
   "source": [
    "batch_size = 64  # Adjust as needed\n",
    "\n",
    "# Labeled training data loader\n",
    "train_labeled_dataset = TimeSeriesDataset(X_train_labeled, y_train_labeled)\n",
    "train_labeled_loader = DataLoader(train_labeled_dataset, batch_size=batch_size, shuffle=True)\n",
    "\n",
    "# Unlabeled training data loader\n",
    "train_unlabeled_dataset = TimeSeriesDataset(X_train_unlabeled)\n",
    "train_unlabeled_loader = DataLoader(train_unlabeled_dataset, batch_size=batch_size, shuffle=True)\n",
    "\n",
    "train_dataset = TimeSeriesDataset(X_train, y_train)\n",
    "train_loader = DataLoader(train_dataset, batch_size=batch_size, shuffle=False)\n",
    "\n",
    "\n",
    "# Test data loader\n",
    "test_dataset = TimeSeriesDataset(X_test, y_test)\n",
    "test_loader = DataLoader(test_dataset, batch_size=batch_size, shuffle=False)\n"
   ]
  },
  {
   "cell_type": "markdown",
   "id": "b73e288d",
   "metadata": {},
   "source": [
    "# Instantiate and Train the Conditional VAE"
   ]
  },
  {
   "cell_type": "code",
   "execution_count": 14,
   "id": "5f0a92ec",
   "metadata": {},
   "outputs": [
    {
     "name": "stdout",
     "output_type": "stream",
     "text": [
      "Epoch [1/10], Total Loss: 35.9354, Rec Loss: 31.1109, KL Div: 0.4620, Class Loss: 4.3625\n",
      "Epoch [2/10], Total Loss: 160.2005, Rec Loss: 156.6546, KL Div: 1.0405, Class Loss: 2.5054\n",
      "Epoch [3/10], Total Loss: 154.6507, Rec Loss: 154.6361, KL Div: 0.0146, Class Loss: 0.0001\n",
      "Epoch [4/10], Total Loss: 154.7906, Rec Loss: 154.6818, KL Div: 0.1087, Class Loss: 0.0001\n",
      "Epoch [5/10], Total Loss: 154.6390, Rec Loss: 154.5857, KL Div: 0.0393, Class Loss: 0.0140\n",
      "Epoch [6/10], Total Loss: 154.5912, Rec Loss: 154.5638, KL Div: 0.0263, Class Loss: 0.0011\n",
      "Epoch [7/10], Total Loss: 154.7721, Rec Loss: 154.6323, KL Div: 0.1266, Class Loss: 0.0132\n",
      "Epoch [8/10], Total Loss: 154.5918, Rec Loss: 154.4702, KL Div: 0.0299, Class Loss: 0.0917\n",
      "Epoch [9/10], Total Loss: 154.5574, Rec Loss: 154.5454, KL Div: 0.0120, Class Loss: 0.0000\n",
      "Epoch [10/10], Total Loss: 154.6138, Rec Loss: 154.6061, KL Div: 0.0076, Class Loss: 0.0000\n"
     ]
    }
   ],
   "source": [
    "# Parameters\n",
    "latent_dim = 10  # Adjust as needed\n",
    "num_param = 1    # Since we have univariate time series\n",
    "window_size = sequence_length\n",
    "num_classes = 2  # Normal and Anomaly\n",
    "scale_flag = 0   # Use Sigmoid activation in the decoder\n",
    "from source.modelsCondVAE import *\n",
    "from source.utilsCondVAEs5 import *\n",
    "# Instantiate the model\n",
    "model = VAE(latent_dim, num_param, window_size, num_classes, scale_flag).to(device)\n",
    "optimizer = optim.Adam(model.parameters(), lr=1e-3)\n",
    "\n",
    "num_epochs = 10  # Adjust as needed\n",
    "train_model(model, optimizer, train_labeled_loader, train_unlabeled_loader, num_epochs)\n"
   ]
  },
  {
   "cell_type": "markdown",
   "id": "e06774dd",
   "metadata": {},
   "source": [
    "# Evaluate the Model and Detect Anomalies"
   ]
  },
  {
   "cell_type": "code",
   "execution_count": 15,
   "id": "2eed4ad1",
   "metadata": {},
   "outputs": [
    {
     "name": "stdout",
     "output_type": "stream",
     "text": [
      "Anomaly Detection Threshold: 0.05413454305380583\n",
      "Unique labels in true_labels: [0 1]\n",
      "AUC-ROC Score: 0.6000\n",
      "Average Precision Score: 0.0173\n"
     ]
    }
   ],
   "source": [
    "from sklearn.metrics import roc_auc_score, precision_recall_curve, average_precision_score\n",
    "\n",
    "\n",
    "def find_anomaly_scores(model, data_loader):\n",
    "    model.eval()\n",
    "    anomaly_scores = []\n",
    "    true_labels = []\n",
    "\n",
    "    with torch.no_grad():\n",
    "        for X_batch, y_batch in data_loader:\n",
    "            X_batch = X_batch.unsqueeze(1).to(device)\n",
    "            y_batch = y_batch.to(device)\n",
    "\n",
    "            x_rec, class_logits = model(X_batch)\n",
    "            y_probs = F.softmax(class_logits, dim=1)\n",
    "\n",
    "            # Reconstruction error\n",
    "            rec_error = torch.mean((X_batch - x_rec) ** 2, dim=[1, 2])\n",
    "\n",
    "            # Classification probability for anomaly class (assuming class 1 is anomaly)\n",
    "            anomaly_prob = y_probs[:, 1]\n",
    "\n",
    "            # Combine scores\n",
    "            anomaly_score = rec_error * anomaly_prob\n",
    "\n",
    "            anomaly_scores.extend(anomaly_score.cpu().numpy())\n",
    "            true_labels.extend(y_batch.cpu().numpy())\n",
    "\n",
    "    return np.array(anomaly_scores), np.array(true_labels)\n",
    "# Compute anomaly scores\n",
    "train_anomaly_scores, train_true_labels = find_anomaly_scores(model, train_loader)\n",
    "\n",
    "# Define the scale factor\n",
    "scale = 2  # You can adjust this value\n",
    "\n",
    "# Calculate the threshold\n",
    "threshold = np.mean(train_anomaly_scores) + scale * np.std(train_anomaly_scores)\n",
    "print(f\"Anomaly Detection Threshold: {threshold}\")\n",
    "\n",
    "test_anomaly_scores, test_true_labels = find_anomaly_scores(model, test_loader)\n",
    "# Classify test data\n",
    "\n",
    "\n",
    "\n",
    "# Verify unique labels\n",
    "unique_labels = np.unique(test_true_labels)\n",
    "print(\"Unique labels in true_labels:\", unique_labels)\n",
    "\n",
    "# Compute AUC-ROC\n",
    "auc_score = roc_auc_score(test_true_labels, test_anomaly_scores)\n",
    "print(f\"AUC-ROC Score: {auc_score:.4f}\")\n",
    "\n",
    "# Compute Precision-Recall Curve\n",
    "precision, recall, thresholds = precision_recall_curve(test_true_labels, test_anomaly_scores)\n",
    "ap_score = average_precision_score(test_true_labels, test_anomaly_scores)\n",
    "print(f\"Average Precision Score: {ap_score:.4f}\")\n"
   ]
  },
  {
   "cell_type": "code",
   "execution_count": 16,
   "id": "6f4dd29e",
   "metadata": {},
   "outputs": [
    {
     "name": "stdout",
     "output_type": "stream",
     "text": [
      "[0.01854157 0.02553817 0.00054173 ... 0.00094589 0.00014487 0.00210648]\n"
     ]
    }
   ],
   "source": [
    "print(test_anomaly_scores)\n",
    "#print(true_labels)"
   ]
  },
  {
   "cell_type": "code",
   "execution_count": 17,
   "id": "1997ea62",
   "metadata": {},
   "outputs": [
    {
     "name": "stdout",
     "output_type": "stream",
     "text": [
      "AUC-ROC Score: 0.6000\n",
      "Average Precision Score: 0.0173\n"
     ]
    }
   ],
   "source": [
    "from sklearn.metrics import roc_auc_score, precision_recall_curve, average_precision_score\n",
    "\n",
    "# Compute AUC-ROC\n",
    "auc_score = roc_auc_score(test_true_labels, test_anomaly_scores)\n",
    "print(f\"AUC-ROC Score: {auc_score:.4f}\")\n",
    "\n",
    "# Compute Precision-Recall Curve\n",
    "precision, recall, thresholds = precision_recall_curve(test_true_labels, test_anomaly_scores)\n",
    "ap_score = average_precision_score(test_true_labels, test_anomaly_scores)\n",
    "print(f\"Average Precision Score: {ap_score:.4f}\")\n"
   ]
  },
  {
   "cell_type": "code",
   "execution_count": 18,
   "id": "d281fb52",
   "metadata": {},
   "outputs": [
    {
     "data": {
      "image/png": "[encoded data removed]",
      "text/plain": [
       "<Figure size 1000x600 with 1 Axes>"
      ]
     },
     "metadata": {},
     "output_type": "display_data"
    }
   ],
   "source": [
    "plt.figure(figsize=(10, 6))\n",
    "plt.hist(test_anomaly_scores[test_true_labels == 0], bins=50, alpha=0.6, label='Normal')\n",
    "plt.hist(test_anomaly_scores[test_true_labels == 1], bins=50, alpha=0.6, label='Anomaly')\n",
    "plt.title('Anomaly Score Distribution')\n",
    "plt.xlabel('Anomaly Score')\n",
    "plt.ylabel('Frequency')\n",
    "plt.legend()\n",
    "plt.show()\n"
   ]
  },
  {
   "cell_type": "code",
   "execution_count": 23,
   "id": "3e176694",
   "metadata": {},
   "outputs": [
    {
     "data": {
      "image/png": "[encoded data removed]",
      "text/plain": [
       "<Figure size 800x600 with 1 Axes>"
      ]
     },
     "metadata": {},
     "output_type": "display_data"
    }
   ],
   "source": [
    "from sklearn.metrics import roc_curve\n",
    "\n",
    "fpr, tpr, thresholds = roc_curve(test_true_labels, test_anomaly_scores)\n",
    "test_predictions = (test_anomaly_scores > threshold).astype(int)\n",
    "plt.figure(figsize=(8, 6))\n",
    "plt.plot(fpr, tpr, label=f'AUC = {auc_score:.4f}')\n",
    "plt.plot([0, 1], [0, 1], 'k--')\n",
    "plt.title('ROC Curve')\n",
    "plt.xlabel('False Positive Rate')\n",
    "plt.ylabel('True Positive Rate')\n",
    "plt.legend()\n",
    "plt.show()\n"
   ]
  },
  {
   "cell_type": "code",
   "execution_count": 24,
   "id": "3706a868",
   "metadata": {},
   "outputs": [
    {
     "name": "stdout",
     "output_type": "stream",
     "text": [
      "Classification Report:\n",
      "              precision    recall  f1-score   support\n",
      "\n",
      "      Normal       0.99      0.96      0.98     28325\n",
      "     Anomaly       0.02      0.09      0.03       233\n",
      "\n",
      "    accuracy                           0.95     28558\n",
      "   macro avg       0.51      0.53      0.50     28558\n",
      "weighted avg       0.98      0.95      0.97     28558\n",
      "\n",
      "Confusion Matrix:\n",
      "[[27231  1094]\n",
      " [  212    21]]\n",
      "AUC-ROC Score: 0.6000\n"
     ]
    }
   ],
   "source": [
    "from sklearn.metrics import classification_report, confusion_matrix, roc_auc_score\n",
    "\n",
    "# Classification report\n",
    "print(\"Classification Report:\")\n",
    "print(classification_report(test_true_labels, test_predictions, target_names=['Normal', 'Anomaly']))\n",
    "\n",
    "# Confusion matrix\n",
    "cm = confusion_matrix(test_true_labels, test_predictions)\n",
    "print(\"Confusion Matrix:\")\n",
    "print(cm)\n",
    "\n",
    "# Compute AUC-ROC\n",
    "auc_score = roc_auc_score(test_true_labels, test_anomaly_scores)\n",
    "print(f\"AUC-ROC Score: {auc_score:.4f}\")\n"
   ]
  },
  {
   "cell_type": "code",
   "execution_count": 25,
   "id": "43df521a",
   "metadata": {},
   "outputs": [
    {
     "name": "stdout",
     "output_type": "stream",
     "text": [
      "Precision = 1.88%, recall = 9.01% and F1-score = 3.12%\n"
     ]
    }
   ],
   "source": [
    "from sklearn.metrics import precision_recall_fscore_support, confusion_matrix\n",
    "info = precision_recall_fscore_support(test_true_labels, test_predictions, pos_label=1)\n",
    "print(\"Precision = {}%, recall = {}% and F1-score = {}%\".format(np.round(info[0][1]*100, 2),\n",
    "                                                                np.round(info[1][1]*100, 2),\n",
    "                                                                np.round(info[2][1]*100, 2)))"
   ]
  },
  {
   "cell_type": "code",
   "execution_count": 26,
   "id": "9979b673",
   "metadata": {},
   "outputs": [
    {
     "data": {
      "image/png": "[encoded data removed]",
      "text/plain": [
       "<Figure size 1000x600 with 1 Axes>"
      ]
     },
     "metadata": {},
     "output_type": "display_data"
    }
   ],
   "source": [
    "import matplotlib.pyplot as plt\n",
    "\n",
    "plt.figure(figsize=(10, 6))\n",
    "plt.hist(test_anomaly_scores[test_true_labels == 0], bins=50, alpha=0.6, label='Normal')\n",
    "plt.hist(test_anomaly_scores[test_true_labels == 1], bins=50, alpha=0.6, label='Anomaly')\n",
    "plt.axvline(threshold, color='red', linestyle='--', label='Threshold')\n",
    "plt.title('Anomaly Score Distribution with Threshold')\n",
    "plt.xlabel('Anomaly Score')\n",
    "plt.ylabel('Frequency')\n",
    "plt.legend()\n",
    "plt.show()\n"
   ]
  }
 ],
 "metadata": {
  "kernelspec": {
   "display_name": "cvae",
   "language": "python",
   "name": "python3"
  },
  "language_info": {
   "codemirror_mode": {
    "name": "ipython",
    "version": 3
   },
   "file_extension": ".py",
   "mimetype": "text/x-python",
   "name": "python",
   "nbconvert_exporter": "python",
   "pygments_lexer": "ipython3",
   "version": "3.9.18"
  }
 },
 "nbformat": 4,
 "nbformat_minor": 5
}
