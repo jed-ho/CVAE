{
 "cells": [
  {
   "cell_type": "markdown",
   "id": "160e0d6c",
   "metadata": {},
   "source": [
    "# Demonstration of anomaly detection with CVAE using DASHlink data\n",
    "\n",
    "**Author: Milad Memarzadeh (milad.memarzadeh@nasa.gov)**\n"
   ]
  },
  {
   "cell_type": "markdown",
   "id": "2d44fdf2",
   "metadata": {},
   "source": [
    "# Demonstration of anomaly detection with CVAE using DASHlink data\n",
    "\n",
    "**Author: Milad Memarzadeh (milad.memarzadeh@nasa.gov)**\n"
   ]
  },
  {
   "cell_type": "markdown",
   "id": "831f2c0d",
   "metadata": {},
   "source": [
    "# Import Libraries"
   ]
  },
  {
   "cell_type": "code",
   "execution_count": 126,
   "id": "d3a6137f",
   "metadata": {},
   "outputs": [
    {
     "name": "stdout",
     "output_type": "stream",
     "text": [
      "Using device: cuda\n"
     ]
    }
   ],
   "source": [
    "import os\n",
    "import io\n",
    "import numpy as np\n",
    "import pandas as pd\n",
    "import matplotlib.pyplot as plt\n",
    "\n",
    "import seaborn as sns\n",
    "import torch\n",
    "from torch.utils.data import Dataset, DataLoader\n",
    "from torch import nn, optim\n",
    "import torch.nn.functional as F\n",
    "\n",
    "from sklearn.preprocessing import MinMaxScaler\n",
    "from sklearn.model_selection import train_test_split, StratifiedKFold\n",
    "from sklearn.metrics import roc_auc_score, classification_report, confusion_matrix, ConfusionMatrixDisplay, precision_recall_fscore_support, roc_curve, precision_recall_curve, average_precision_score\n",
    "from sklearn.utils import shuffle\n",
    "#from source.modelsCondVAE import *\n",
    "from source.utilsCondVAEs5 import *\n",
    "from itertools import combinations\n",
    "device = torch.device(\"cuda\" if torch.cuda.is_available() else \"cpu\")\n",
    "print(\"Using device:\", device)\n"
   ]
  },
  {
   "cell_type": "code",
   "execution_count": 127,
   "id": "758118c6",
   "metadata": {},
   "outputs": [],
   "source": [
    "train_learning_rate = 1e-4 #1e-3\n",
    "train_num_epochs = 10\n",
    "\n",
    "latent_dim = 10\n",
    "batch_size = 64\n",
    "window_size = 10\n"
   ]
  },
  {
   "cell_type": "markdown",
   "id": "8b697530",
   "metadata": {},
   "source": [
    "# Load and preprocess data"
   ]
  },
  {
   "cell_type": "code",
   "execution_count": 128,
   "id": "6cb4fb32",
   "metadata": {},
   "outputs": [
    {
     "name": "stdout",
     "output_type": "stream",
     "text": [
      "Data shape: (142100, 3)\n"
     ]
    }
   ],
   "source": [
    "if os.name == 'nt':\n",
    "    data_dir = 'C:/Users/jed95/Documents/GitHub/anomaly_detection/dataset/yahoo_s5/A2Benchmark/'\n",
    "else:\n",
    "    data_dir = '/home/adlink3/Downloads/yahoo_s5/A2Benchmark/'\n",
    "save_dir=\"./CompressAE/A2/\"\n",
    "file_list = [os.path.join(data_dir, f) for f in os.listdir(data_dir) if f.endswith('.csv')]\n",
    "\n",
    "\n",
    "df_list = []\n",
    "for file in file_list:\n",
    "    df = pd.read_csv(file)\n",
    "    df_list.append(df)\n",
    "\n",
    "data = pd.concat(df_list, ignore_index=True)\n",
    "print(\"Data shape:\", data.shape)\n"
   ]
  },
  {
   "cell_type": "code",
   "execution_count": 129,
   "id": "9599316a",
   "metadata": {},
   "outputs": [
    {
     "name": "stdout",
     "output_type": "stream",
     "text": [
      "Missing values: timestamp     0\n",
      "value         0\n",
      "is_anomaly    0\n",
      "dtype: int64\n"
     ]
    }
   ],
   "source": [
    "print(\"Missing values:\", data.isnull().sum())\n",
    "data.dropna(inplace=True)"
   ]
  },
  {
   "cell_type": "code",
   "execution_count": 130,
   "id": "4345488d",
   "metadata": {},
   "outputs": [],
   "source": [
    "scaler = MinMaxScaler()\n",
    "data['value'] = scaler.fit_transform(data['value'].values.reshape(-1, 1))\n"
   ]
  },
  {
   "cell_type": "markdown",
   "id": "3f665b01",
   "metadata": {},
   "source": [
    "# Create Sequences"
   ]
  },
  {
   "cell_type": "code",
   "execution_count": 131,
   "id": "7b216f9b",
   "metadata": {},
   "outputs": [
    {
     "name": "stdout",
     "output_type": "stream",
     "text": [
      "Sequences shape: (142091, 10)\n",
      "Sequence labels shape: (142091,)\n"
     ]
    }
   ],
   "source": [
    "def create_sequences(values, labels, window_size, step=1):\n",
    "    sequences = []\n",
    "    seq_labels = []\n",
    "    for i in range(0, len(values) - window_size + 1, step):\n",
    "        seq = values[i:i + window_size]\n",
    "        # If any label in the sequence is anomalous (e.g., 1), set the sequence label as anomalous\n",
    "        label = 1 if any(labels[i:i + window_size]) else 0\n",
    "        sequences.append(seq)\n",
    "        seq_labels.append(label)\n",
    "    return np.array(sequences), np.array(seq_labels)\n",
    "\n",
    "\n",
    "sequences, seq_labels = create_sequences(data['value'].values, data['is_anomaly'].values, window_size=window_size)\n",
    "print(\"Sequences shape:\", sequences.shape)\n",
    "print(\"Sequence labels shape:\", seq_labels.shape)\n",
    "\n"
   ]
  },
  {
   "cell_type": "markdown",
   "id": "7e4a0c45",
   "metadata": {},
   "source": [
    "# Split data into labeled and unlabeled sets"
   ]
  },
  {
   "cell_type": "code",
   "execution_count": 132,
   "id": "3d6284fe",
   "metadata": {},
   "outputs": [
    {
     "name": "stdout",
     "output_type": "stream",
     "text": [
      "(139825, 10)\n",
      "(2266, 10)\n"
     ]
    }
   ],
   "source": [
    "\n",
    "normal_indices = np.where(seq_labels == 0)[0]\n",
    "anomalous_indices = np.where(seq_labels == 1)[0]\n",
    "\n",
    "normal_sequences = sequences[normal_indices]\n",
    "normal_labels = seq_labels[normal_indices]\n",
    "\n",
    "anomalous_sequences = sequences[anomalous_indices]\n",
    "anomalous_labels = seq_labels[anomalous_indices]\n",
    "print(normal_sequences.shape)\n",
    "print(anomalous_sequences.shape)\n"
   ]
  },
  {
   "cell_type": "code",
   "execution_count": 133,
   "id": "5cb09988",
   "metadata": {},
   "outputs": [],
   "source": [
    "X_train_normal, X_test_normal, y_train_normal, y_test_normal = train_test_split(\n",
    "    normal_sequences, normal_labels, test_size=0.6, random_state=42, stratify=normal_labels)\n",
    "X_train_normal, X_val_normal, y_train_normal, y_val_normal = train_test_split(\n",
    "    X_train_normal, y_train_normal, test_size=0.5, random_state=42, stratify=y_train_normal)\n",
    "\n",
    "\n",
    "X_train_anomalous, X_test_anomalous, y_train_anomalous, y_test_anomalous = train_test_split(\n",
    "    anomalous_sequences, anomalous_labels, test_size=0.6, random_state=42, stratify=anomalous_labels)\n",
    "X_train_anomalous, X_val_anomalous, y_train_anomalous, y_val_anomalous = train_test_split(\n",
    "    X_train_anomalous, y_train_anomalous, test_size=0.5, random_state=42, stratify=y_train_anomalous)\n"
   ]
  },
  {
   "cell_type": "code",
   "execution_count": 134,
   "id": "f65f3dda",
   "metadata": {},
   "outputs": [
    {
     "name": "stdout",
     "output_type": "stream",
     "text": [
      "Training data shape: (28418, 10) (28418,)\n",
      "Validation data shape: (28418, 10) (28418,)\n",
      "Test data shape: (85255, 10) (85255,)\n"
     ]
    }
   ],
   "source": [
    "X_train = np.concatenate([X_train_normal, X_train_anomalous], axis=0)\n",
    "y_train = np.concatenate([y_train_normal, y_train_anomalous], axis=0)\n",
    "\n",
    "X_val = np.concatenate([X_val_normal, X_val_anomalous], axis=0)\n",
    "y_val = np.concatenate([y_val_normal, y_val_anomalous], axis=0)\n",
    "\n",
    "X_test = np.concatenate([X_test_normal, X_test_anomalous], axis=0)\n",
    "y_test = np.concatenate([y_test_normal, y_test_anomalous], axis=0)\n",
    "print(\"Training data shape:\", X_train.shape, y_train.shape)\n",
    "print(\"Validation data shape:\", X_val.shape, y_val.shape)\n",
    "print(\"Test data shape:\", X_test.shape, y_test.shape)\n"
   ]
  },
  {
   "cell_type": "code",
   "execution_count": 135,
   "id": "28af8376",
   "metadata": {},
   "outputs": [],
   "source": [
    "X_train, y_train = shuffle(X_train, y_train, random_state=42)\n",
    "X_val, y_val = shuffle(X_val, y_val, random_state=42)\n",
    "X_test, y_test = shuffle(X_test, y_test, random_state=42)\n"
   ]
  },
  {
   "cell_type": "code",
   "execution_count": null,
   "id": "f7cae7d2",
   "metadata": {},
   "outputs": [
    {
     "name": "stdout",
     "output_type": "stream",
     "text": [
      "X_train_tensor shape: torch.Size([28418, 1, 10])\n",
      "y_train_tensor shape: torch.Size([28418])\n",
      "X_val_tensor shape: torch.Size([28418, 1, 10])\n",
      "y_val_tensor shape: torch.Size([28418])\n",
      "X_test_tensor shape: torch.Size([85255, 1, 10])\n",
      "y_test_tensor shape: torch.Size([85255])\n"
     ]
    }
   ],
   "source": [
    "np.save(save_dir+'X_train.npy', X_train)\n",
    "np.save(save_dir+'y_train.npy', y_train)\n",
    "np.save(save_dir+'X_val.npy', X_val)\n",
    "np.save(save_dir+'y_val.npy', y_val)\n",
    "np.save(save_dir+'X_test.npy', X_test)\n",
    "np.save(save_dir+'y_test.npy', y_test)\n",
    "\n",
    "X_train_size = os.path.getsize(save_dir+'X_train.npy')\n",
    "X_val_size = os.path.getsize(save_dir+'X_val.npy')\n",
    "X_test_size = os.path.getsize(save_dir+'X_test.npy')"
   ]
  },
  {
   "cell_type": "markdown",
   "id": "4db1beef",
   "metadata": {},
   "source": [
    "# Convert Data to Tensors"
   ]
  },
  {
   "cell_type": "code",
   "execution_count": null,
   "id": "9a03c958",
   "metadata": {},
   "outputs": [],
   "source": [
    "X_train_tensor = torch.tensor(X_train).unsqueeze(1).float()\n",
    "y_train_tensor = torch.tensor(y_train).long()\n",
    "\n",
    "X_val_tensor = torch.tensor(X_val).unsqueeze(1).float()\n",
    "y_val_tensor = torch.tensor(y_val).long()\n",
    "\n",
    "X_test_tensor = torch.tensor(X_test).unsqueeze(1).float()\n",
    "y_test_tensor = torch.tensor(y_test).long()\n",
    "print(\"X_train_tensor shape:\", X_train_tensor.shape)\n",
    "print(\"y_train_tensor shape:\", y_train_tensor.shape)\n",
    "print(\"X_val_tensor shape:\", X_val_tensor.shape)\n",
    "print(\"y_val_tensor shape:\", y_val_tensor.shape)\n",
    "print(\"X_test_tensor shape:\", X_test_tensor.shape)\n",
    "print(\"y_test_tensor shape:\", y_test_tensor.shape)\n"
   ]
  },
  {
   "cell_type": "markdown",
   "id": "d50dc79a",
   "metadata": {},
   "source": [
    "# Create Data Loaders for Labeled and Unlabeled Data"
   ]
  },
  {
   "cell_type": "code",
   "execution_count": 138,
   "id": "c21a408d",
   "metadata": {},
   "outputs": [],
   "source": [
    "\n",
    "#train_dataset = TimeSeriesDataset(X_train_tensor, y_train_tensor)\n",
    "#train_loader = DataLoader(train_dataset, batch_size=batch_size, shuffle=False) #TODO adjust Shuffle training data? \n",
    "#full_train_dataset = TimeSeriesDataset(X_train_tensor, y_train_tensor)\n",
    "#\n",
    "#val_dataset = TimeSeriesDataset(X_val_tensor, y_val_tensor)\n",
    "#val_loader = DataLoader(val_dataset, batch_size=batch_size, shuffle=False)\n",
    "#\n",
    "#\n",
    "#test_dataset = TimeSeriesDataset(X_test_tensor, y_test_tensor)\n",
    "#test_loader = DataLoader(test_dataset, batch_size=batch_size, shuffle=False)\n",
    "#\n",
    "X_train_dataset = torch.utils.data.TensorDataset(X_train_tensor)\n",
    "X_train_loader = torch.utils.data.DataLoader(X_train_dataset, batch_size=batch_size, shuffle=False)"
   ]
  },
  {
   "cell_type": "code",
   "execution_count": 139,
   "id": "5fa295ef",
   "metadata": {},
   "outputs": [],
   "source": [
    "class Conv1dAutoencoder(nn.Module):\n",
    "    def __init__(self, input_length, latent_dim):\n",
    "        super(Conv1dAutoencoder, self).__init__()\n",
    "        self.input_length = input_length\n",
    "        self.latent_dim = latent_dim\n",
    "\n",
    "        # Encoder: Conv1d downsampling\n",
    "        self.encoder = nn.Sequential(\n",
    "            nn.Conv1d(1, 16, kernel_size=3, stride=2, padding=1),\n",
    "            nn.ReLU(True),\n",
    "            nn.Conv1d(16, 8, kernel_size=3, stride=2, padding=1),\n",
    "            nn.ReLU(True)\n",
    "        )\n",
    "        # infer flattened size\n",
    "        with torch.no_grad():\n",
    "            dummy = torch.zeros(1, 1, self.input_length)\n",
    "            enc = self.encoder(dummy)\n",
    "            c, l = enc.shape[1], enc.shape[2]\n",
    "            self._flattened_size = c * l\n",
    "\n",
    "        # Bottleneck\n",
    "        self.fc1 = nn.Linear(self._flattened_size, self.latent_dim)\n",
    "        self.fc2 = nn.Linear(self.latent_dim, self._flattened_size)\n",
    "\n",
    "        # Decoder: ConvTranspose1d upsampling\n",
    "        self.decoder = nn.Sequential(\n",
    "            nn.Unflatten(1, (c, l)),\n",
    "            nn.ConvTranspose1d(c, 16, kernel_size=3, stride=2, padding=1, output_padding=1),\n",
    "            nn.ReLU(True),\n",
    "            nn.ConvTranspose1d(16, 1, kernel_size=3, stride=2, padding=1, output_padding=1),\n",
    "            nn.Sigmoid()\n",
    "        )\n",
    "\n",
    "    def encode(self, x):\n",
    "        x = self.encoder(x)\n",
    "        x = x.view(x.size(0), -1)\n",
    "        return self.fc1(x)\n",
    "\n",
    "    def decode(self, z):\n",
    "        x = self.fc2(z)\n",
    "        x = self.decoder(x)\n",
    "        return x[..., :self.input_length]\n",
    "\n",
    "    def forward(self, x):\n",
    "        z = self.encode(x)\n",
    "        return self.decode(z), z\n"
   ]
  },
  {
   "cell_type": "code",
   "execution_count": 140,
   "id": "1c69df77",
   "metadata": {},
   "outputs": [
    {
     "name": "stdout",
     "output_type": "stream",
     "text": [
      "Epoch 1 Loss 0.133404\n",
      "Epoch 2 Loss 0.041641\n",
      "Epoch 3 Loss 0.008874\n",
      "Epoch 4 Loss 0.004397\n",
      "Epoch 5 Loss 0.001286\n",
      "Epoch 6 Loss 0.000956\n",
      "Epoch 7 Loss 0.000897\n",
      "Epoch 8 Loss 0.000843\n",
      "Epoch 9 Loss 0.000747\n",
      "Epoch 10 Loss 0.000502\n"
     ]
    }
   ],
   "source": [
    "model = Conv1dAutoencoder(input_length=window_size, latent_dim=latent_dim).to(device)\n",
    "opt = optim.Adam(model.parameters(), lr=train_learning_rate)\n",
    "loss_fn = nn.MSELoss()\n",
    "\n",
    "model.train()\n",
    "for ep in range(train_num_epochs):\n",
    "    tot=0\n",
    "    for bx, in X_train_loader:\n",
    "        bx = bx.to(device)\n",
    "        recon, _ = model(bx)\n",
    "        loss = loss_fn(recon, bx)\n",
    "        opt.zero_grad(); loss.backward(); opt.step()\n",
    "        tot+=loss.item()\n",
    "    print(f'Epoch {ep+1} Loss {tot/len(X_train_loader):.6f}')"
   ]
  },
  {
   "cell_type": "code",
   "execution_count": 141,
   "id": "c824fd30",
   "metadata": {},
   "outputs": [
    {
     "data": {
      "text/plain": [
       "Conv1dAutoencoder(\n",
       "  (encoder): Sequential(\n",
       "    (0): Conv1d(1, 16, kernel_size=(3,), stride=(2,), padding=(1,))\n",
       "    (1): ReLU(inplace=True)\n",
       "    (2): Conv1d(16, 8, kernel_size=(3,), stride=(2,), padding=(1,))\n",
       "    (3): ReLU(inplace=True)\n",
       "  )\n",
       "  (fc1): Linear(in_features=24, out_features=10, bias=True)\n",
       "  (fc2): Linear(in_features=10, out_features=24, bias=True)\n",
       "  (decoder): Sequential(\n",
       "    (0): Unflatten(dim=1, unflattened_size=(8, 3))\n",
       "    (1): ConvTranspose1d(8, 16, kernel_size=(3,), stride=(2,), padding=(1,), output_padding=(1,))\n",
       "    (2): ReLU(inplace=True)\n",
       "    (3): ConvTranspose1d(16, 1, kernel_size=(3,), stride=(2,), padding=(1,), output_padding=(1,))\n",
       "    (4): Sigmoid()\n",
       "  )\n",
       ")"
      ]
     },
     "execution_count": 141,
     "metadata": {},
     "output_type": "execute_result"
    }
   ],
   "source": [
    "model.eval()\n",
    "#print(summary(\n",
    "#model,\n",
    "#input_size=(32, 1, window_size),\n",
    "#))"
   ]
  },
  {
   "cell_type": "code",
   "execution_count": 142,
   "id": "5da2af45",
   "metadata": {},
   "outputs": [],
   "source": [
    "with torch.no_grad():\n",
    "    recon1, z_train = model(X_train_tensor.to(device))\n",
    "    recon2, z_val = model(X_val_tensor.to(device))\n",
    "    recon3, z_test = model(X_test_tensor.to(device))\n",
    "np.save(save_dir+'z_train.npy', z_train.cpu().numpy())\n",
    "np.save(save_dir+'z_val.npy', z_val.cpu().numpy())\n",
    "np.save(save_dir+'z_test.npy', z_test.cpu().numpy())\n",
    "#dfz = pd.DataFrame(z, columns=[f'z{i}' for i in range(z.shape[1])])\n",
    "#dfz['label'] = y_train\n",
    "#dfz.to_csv('compressed_with_labels.csv', index=False)\n",
    "# sizes\n",
    "z_train_size = os.path.getsize(save_dir+'z_train.npy')\n",
    "z_val_size = os.path.getsize(save_dir+'z_val.npy')\n",
    "z_test_size = os.path.getsize(save_dir+'z_test.npy')"
   ]
  },
  {
   "cell_type": "code",
   "execution_count": null,
   "id": "83e8f476",
   "metadata": {},
   "outputs": [
    {
     "name": "stdout",
     "output_type": "stream",
     "text": [
      "Uncompressed: 1136848 bytes\n",
      "Compressed: 1136848 bytes\n",
      "Ratio: 1.000\n",
      "\n",
      "Uncompressed: 1136848 bytes\n",
      "Compressed: 1136848 bytes\n",
      "Ratio: 1.000\n",
      "\n",
      "Uncompressed: 3410328 bytes\n",
      "Compressed: 3410328 bytes\n",
      "Ratio: 1.000\n",
      "\n"
     ]
    }
   ],
   "source": [
    "train_ratio = z_train_size / X_train_size if X_train_size else float('nan')\n",
    "print(f\"Uncompressed: {X_train_size} bytes\\nCompressed: {z_train_size} bytes\\nRatio: {train_ratio:.3f}\\n\")\n",
    "val_ratio = z_val_size / X_val_size if X_val_size else float('nan')\n",
    "print(f\"Uncompressed: {X_val_size} bytes\\nCompressed: {z_val_size} bytes\\nRatio: {val_ratio:.3f}\\n\")\n",
    "test_ratio = z_test_size / X_test_size if X_test_size else float('nan')\n",
    "print(f\"Uncompressed: {X_test_size} bytes\\nCompressed: {z_test_size} bytes\\nRatio: {test_ratio:.3f}\\n\")\n"
   ]
  },
  {
   "cell_type": "markdown",
   "id": "b73e288d",
   "metadata": {},
   "source": [
    "# Instantiate and Train the Conditional VAE"
   ]
  },
  {
   "cell_type": "code",
   "execution_count": 144,
   "id": "b441bd50",
   "metadata": {},
   "outputs": [],
   "source": [
    "def evaluate_model(model, data_loader):\n",
    "    model.eval()\n",
    "    total_loss = 0\n",
    "    total_correct = 0\n",
    "    total_samples = 0\n",
    "    criterion = nn.CrossEntropyLoss()\n",
    "\n",
    "    with torch.no_grad():\n",
    "        for data, target in data_loader:\n",
    "            data = data.to(device)\n",
    "            target = target.to(device)\n",
    "\n",
    "            # Forward pass\n",
    "            x_rec, class_logits = model(data)\n",
    "            \n",
    "            # Compute classification loss\n",
    "            loss = criterion(class_logits, target)\n",
    "            total_loss += loss.item() * data.size(0)\n",
    "\n",
    "            # Compute accuracy\n",
    "            preds = class_logits.argmax(dim=1)\n",
    "            total_correct += (preds == target).sum().item()\n",
    "            total_samples += data.size(0)\n",
    "\n",
    "    avg_loss = total_loss / total_samples\n",
    "    avg_acc = total_correct / total_samples\n",
    "\n",
    "    return avg_loss, avg_acc\n"
   ]
  },
  {
   "cell_type": "code",
   "execution_count": 145,
   "id": "89ea30df",
   "metadata": {},
   "outputs": [],
   "source": [
    "def plot_training_loss(model_name, save_dir):\n",
    "    training_traj = np.load(save_dir+model_name+\"_training_loss.npz\")\n",
    "\n",
    "    total_loss = training_traj['training_total_loss']\n",
    "    rec_loss = training_traj['training_rec_loss']\n",
    "    kl_loss = training_traj['training_kl_loss']\n",
    "    class_loss = training_traj['training_class_loss']\n",
    "    plt.figure(figsize=(16, 16))\n",
    "    plt.suptitle(model_name, fontsize=16)\n",
    "    plt.subplot(2, 2, 1)\n",
    "    plt.title(\"Total Loss\", fontsize=12)\n",
    "    plt.plot(range(len(total_loss)), total_loss)\n",
    "    plt.tick_params(axis='both', which='major', labelsize=14)\n",
    "    plt.subplot(2, 2, 2)\n",
    "    plt.title(\"Reconstruction Loss\", fontsize=12)\n",
    "    plt.plot(range(len(total_loss)), rec_loss)\n",
    "    plt.tick_params(axis='both', which='major', labelsize=14)\n",
    "    plt.subplot(2, 2, 3)\n",
    "    plt.title(\"KL Loss\", fontsize=12)\n",
    "    plt.plot(range(len(total_loss)), kl_loss)\n",
    "    plt.tick_params(axis='both', which='major', labelsize=14)\n",
    "    plt.subplot(2, 2, 4)\n",
    "    plt.title(\"Classification Loss\", fontsize=12)\n",
    "    plt.plot(range(len(total_loss)), class_loss)\n",
    "    plt.tick_params(axis='both', which='major', labelsize=14)\n",
    "    \n",
    "#for fold in range(k_folds):\n",
    "#    plot_training_loss(\"CondVAE_model\"+str(fold+1), save_dir)"
   ]
  },
  {
   "cell_type": "markdown",
   "id": "019aa278",
   "metadata": {},
   "source": [
    "# Initialize 3 new models for fine-tuning"
   ]
  },
  {
   "cell_type": "markdown",
   "id": "7809e18a",
   "metadata": {},
   "source": [
    "# Verify the 3 new models"
   ]
  },
  {
   "cell_type": "markdown",
   "id": "e06774dd",
   "metadata": {},
   "source": [
    "# Evaluate the Model and Detect Anomalies"
   ]
  },
  {
   "cell_type": "code",
   "execution_count": null,
   "id": "2eed4ad1",
   "metadata": {},
   "outputs": [
    {
     "ename": "NameError",
     "evalue": "name 'train_loader' is not defined",
     "output_type": "error",
     "traceback": [
      "\u001b[1;31m---------------------------------------------------------------------------\u001b[0m",
      "\u001b[1;31mNameError\u001b[0m                                 Traceback (most recent call last)",
      "Cell \u001b[1;32mIn[146], line 32\u001b[0m\n\u001b[0;32m     29\u001b[0m     \u001b[38;5;28;01mreturn\u001b[39;00m np\u001b[38;5;241m.\u001b[39marray(rec_errors), np\u001b[38;5;241m.\u001b[39marray(anomaly_probs), np\u001b[38;5;241m.\u001b[39marray(true_labels), np\u001b[38;5;241m.\u001b[39marray(predictions)\n\u001b[0;32m     31\u001b[0m \u001b[38;5;66;03m# Compute anomaly scores\u001b[39;00m\n\u001b[1;32m---> 32\u001b[0m train_rec_errors, train_anomaly_probs, train_true_labels, train_predictions \u001b[38;5;241m=\u001b[39m compute_anomaly_scores(model, \u001b[43mtrain_loader\u001b[49m)\n\u001b[0;32m     33\u001b[0m val_rec_errors, val_anomaly_probs, val_true_labels, val_predictions \u001b[38;5;241m=\u001b[39m compute_anomaly_scores(model, val_loader)\n\u001b[0;32m     34\u001b[0m test_rec_errors, test_anomaly_probs, test_true_labels, test_predictions \u001b[38;5;241m=\u001b[39m compute_anomaly_scores(model, test_loader)\n",
      "\u001b[1;31mNameError\u001b[0m: name 'train_loader' is not defined"
     ]
    }
   ],
   "source": [
    "def compute_anomaly_scores(model, data_loader):\n",
    "    model.eval()\n",
    "    rec_errors = []\n",
    "    anomaly_probs = []\n",
    "    true_labels = []\n",
    "    predictions = []\n",
    "\n",
    "    with torch.no_grad():\n",
    "        for X_batch, y_batch in data_loader:\n",
    "            X_batch = X_batch.unsqueeze(1).to(device)\n",
    "            y_batch = y_batch.to(device)\n",
    "\n",
    "            x_rec, class_logits = model(X_batch)\n",
    "            y_probs = F.softmax(class_logits, dim=1)\n",
    "\n",
    "            # Reconstruction error\n",
    "            rec_error = torch.mean((X_batch - x_rec) ** 2, dim=[1, 2])\n",
    "\n",
    "            # Classification probability for anomaly class\n",
    "            anomaly_prob = y_probs[:, 1]\n",
    "\n",
    "            # Combine scores\n",
    "            #anomaly_score = rec_error * anomaly_prob\n",
    "            rec_errors.extend(rec_error.cpu().numpy())\n",
    "            anomaly_probs.extend(anomaly_prob.cpu().numpy())\n",
    "            true_labels.extend(y_batch.cpu().numpy())\n",
    "            predictions.extend(torch.argmax(class_logits, dim=1).cpu().numpy())\n",
    "\n",
    "    return np.array(rec_errors), np.array(anomaly_probs), np.array(true_labels), np.array(predictions)\n",
    "\n"
   ]
  },
  {
   "cell_type": "code",
   "execution_count": null,
   "id": "d279ba78",
   "metadata": {},
   "outputs": [],
   "source": [
    "\n",
    "# Scatter Plot\n",
    "plt.figure(figsize=(8, 6))\n",
    "plt.scatter(range(len(val_anomaly_probs)), val_anomaly_probs, alpha=0.7, c=(val_true_labels!=val_predictions), cmap='coolwarm')\n",
    "plt.title(\"Scatter Plot of Validation Anomaly Scores\")\n",
    "plt.xlabel(\"Index\")\n",
    "plt.ylabel(\"Anomaly Score\")\n",
    "plt.show()\n",
    "\n",
    "# Scatter Plot\n",
    "plt.figure(figsize=(8, 6))\n",
    "plt.scatter(val_rec_errors, val_anomaly_probs, alpha=0.7, c=(val_true_labels==val_predictions), cmap='coolwarm')\n",
    "plt.title(\"Scatter Plot of Validation Anomaly Scores with Reconstruction Errors\")\n",
    "plt.xlabel(\"Index\")\n",
    "plt.ylabel(\"Anomaly Score\")\n",
    "plt.show()\n",
    "\n",
    "# Box Plot\n",
    "plt.figure(figsize=(8, 6))\n",
    "plt.boxplot(val_anomaly_probs, vert=False)\n",
    "plt.title(\"Box Plot of Validation Anomaly Scores\")\n",
    "plt.xlabel(\"Anomaly Score\")\n",
    "plt.show()\n",
    "\n",
    "# Histogram\n",
    "plt.figure(figsize=(8, 6))\n",
    "plt.hist(val_anomaly_probs, bins=20, alpha=0.7, edgecolor='black')\n",
    "plt.title(\"Histogram of Validation Anomaly Scores\")\n",
    "plt.xlabel(\"Anomaly Score\")\n",
    "plt.ylabel(\"Frequency\")\n",
    "plt.show()\n"
   ]
  },
  {
   "cell_type": "code",
   "execution_count": null,
   "id": "fbb7a8d0",
   "metadata": {},
   "outputs": [],
   "source": [
    "\n",
    "# Scatter Plot\n",
    "plt.figure(figsize=(8, 6))\n",
    "plt.scatter(range(len(val_rec_errors)), val_rec_errors, alpha=0.7, c=val_true_labels, cmap='coolwarm')\n",
    "plt.title(\"Scatter Plot of Validation Anomaly Scores (true labels)\")\n",
    "plt.xlabel(\"Index\")\n",
    "plt.ylabel(\"Anomaly Score\")\n",
    "plt.show()\n",
    "# Scatter Plot\n",
    "plt.figure(figsize=(8, 6))\n",
    "plt.scatter(range(len(val_rec_errors)), val_rec_errors, alpha=0.7, c=val_predictions, cmap='coolwarm')\n",
    "plt.title(\"Scatter Plot of Validation Anomaly Scores (predictions)\")\n",
    "plt.xlabel(\"Index\")\n",
    "plt.ylabel(\"Anomaly Score\")\n",
    "plt.show()\n",
    "# Scatter Plot\n",
    "plt.figure(figsize=(8, 6))\n",
    "plt.scatter(range(len(val_rec_errors)), val_rec_errors, alpha=0.7, c=val_anomaly_probs, cmap='coolwarm')\n",
    "plt.title(\"Scatter Plot of Validation Anomaly Scores (anomalous probability)\")\n",
    "plt.xlabel(\"Index\")\n",
    "plt.ylabel(\"Anomaly Score\")\n",
    "plt.show()\n",
    "\n",
    "# Box Plot\n",
    "plt.figure(figsize=(8, 6))\n",
    "plt.boxplot(val_rec_errors, vert=False)\n",
    "plt.title(\"Box Plot of Validation Anomaly Scores\")\n",
    "plt.xlabel(\"Anomaly Score\")\n",
    "plt.show()\n",
    "\n",
    "# Histogram\n",
    "plt.figure(figsize=(8, 6))\n",
    "plt.hist(val_rec_errors, bins=20, alpha=0.7, edgecolor='black')\n",
    "plt.title(\"Histogram of Validation Anomaly Scores\")\n",
    "plt.xlabel(\"Anomaly Score\")\n",
    "plt.ylabel(\"Frequency\")\n",
    "plt.show()\n"
   ]
  }
 ],
 "metadata": {
  "kernelspec": {
   "display_name": "cvae",
   "language": "python",
   "name": "python3"
  },
  "language_info": {
   "codemirror_mode": {
    "name": "ipython",
    "version": 3
   },
   "file_extension": ".py",
   "mimetype": "text/x-python",
   "name": "python",
   "nbconvert_exporter": "python",
   "pygments_lexer": "ipython3",
   "version": "3.9.18"
  }
 },
 "nbformat": 4,
 "nbformat_minor": 5
}
